{
  "cells": [
    {
      "cell_type": "markdown",
      "metadata": {
        "id": "view-in-github",
        "colab_type": "text"
      },
      "source": [
        "<a href=\"https://colab.research.google.com/github/JennaKvasnovsky/Fall2023/blob/main/MNIST.ipynb\" target=\"_parent\"><img src=\"https://colab.research.google.com/assets/colab-badge.svg\" alt=\"Open In Colab\"/></a>"
      ]
    },
    {
      "cell_type": "code",
      "source": [
        "%%capture\n",
        "import numpy as np\n",
        "import matplotlib.pyplot as plt\n",
        "import torch\n",
        "from torchvision import datasets\n",
        "from skimage.util import montage\n",
        "!pip install wandb\n",
        "import wandb as wb\n",
        "from skimage.io import imread"
      ],
      "metadata": {
        "id": "MyHiLSocpj2Y"
      },
      "execution_count": null,
      "outputs": []
    },
    {
      "cell_type": "code",
      "metadata": {
        "id": "tRpmxWj7pl2f"
      },
      "source": [
        "def GPU(data):\n",
        "    return torch.tensor(data, requires_grad=True, dtype=torch.float, device=torch.device('cuda'))\n",
        "\n",
        "def GPU_data(data):\n",
        "    return torch.tensor(data, requires_grad=False, dtype=torch.float, device=torch.device('cuda'))"
      ],
      "execution_count": null,
      "outputs": []
    },
    {
      "cell_type": "code",
      "metadata": {
        "id": "1Wb_wkDZpl2f"
      },
      "source": [
        "def plot(x):\n",
        "    if type(x) == torch.Tensor :\n",
        "        x = x.cpu().detach().numpy()\n",
        "\n",
        "    fig, ax = plt.subplots()\n",
        "    im = ax.imshow(x, cmap = 'gray')\n",
        "    ax.axis('off')\n",
        "    fig.set_size_inches(7, 7)\n",
        "    plt.show()"
      ],
      "execution_count": null,
      "outputs": []
    },
    {
      "cell_type": "code",
      "metadata": {
        "id": "49-KePVupl2g"
      },
      "source": [
        "def montage_plot(x):\n",
        "    x = np.pad(x, pad_width=((0, 0), (1, 1), (1, 1)), mode='constant', constant_values=0)\n",
        "    plot(montage(x))"
      ],
      "execution_count": null,
      "outputs": []
    },
    {
      "cell_type": "code",
      "metadata": {
        "id": "frk1nplIpl2g",
        "colab": {
          "base_uri": "https://localhost:8080/"
        },
        "outputId": "85dd2eb8-f34b-4315-fbab-43d6a2fb4b43"
      },
      "source": [
        "# #MNIST\n",
        "train_set = datasets.MNIST('./data', train=True, download=True)\n",
        "test_set = datasets.MNIST('./data', train=False, download=True)\n",
        "\n",
        "#KMNIST\n",
        "#train_set = datasets.KMNIST('./data', train=True, download=True)\n",
        "#test_set = datasets.KMNIST('./data', train=False, download=True)\n",
        "\n",
        "#Fashion MNIST\n",
        "# train_set = datasets.FashionMNIST('./data', train=True, download=True)\n",
        "# test_set = datasets.FashionMNIST('./data', train=False, download=True)"
      ],
      "execution_count": null,
      "outputs": [
        {
          "output_type": "stream",
          "name": "stdout",
          "text": [
            "Downloading http://yann.lecun.com/exdb/mnist/train-images-idx3-ubyte.gz\n",
            "Downloading http://yann.lecun.com/exdb/mnist/train-images-idx3-ubyte.gz to ./data/MNIST/raw/train-images-idx3-ubyte.gz\n"
          ]
        },
        {
          "output_type": "stream",
          "name": "stderr",
          "text": [
            "100%|██████████| 9912422/9912422 [00:00<00:00, 147243108.09it/s]"
          ]
        },
        {
          "output_type": "stream",
          "name": "stdout",
          "text": [
            "Extracting ./data/MNIST/raw/train-images-idx3-ubyte.gz to ./data/MNIST/raw\n"
          ]
        },
        {
          "output_type": "stream",
          "name": "stderr",
          "text": [
            "\n"
          ]
        },
        {
          "output_type": "stream",
          "name": "stdout",
          "text": [
            "\n",
            "Downloading http://yann.lecun.com/exdb/mnist/train-labels-idx1-ubyte.gz\n",
            "Downloading http://yann.lecun.com/exdb/mnist/train-labels-idx1-ubyte.gz to ./data/MNIST/raw/train-labels-idx1-ubyte.gz\n"
          ]
        },
        {
          "output_type": "stream",
          "name": "stderr",
          "text": [
            "100%|██████████| 28881/28881 [00:00<00:00, 33472145.30it/s]\n"
          ]
        },
        {
          "output_type": "stream",
          "name": "stdout",
          "text": [
            "Extracting ./data/MNIST/raw/train-labels-idx1-ubyte.gz to ./data/MNIST/raw\n",
            "\n",
            "Downloading http://yann.lecun.com/exdb/mnist/t10k-images-idx3-ubyte.gz\n",
            "Downloading http://yann.lecun.com/exdb/mnist/t10k-images-idx3-ubyte.gz to ./data/MNIST/raw/t10k-images-idx3-ubyte.gz\n"
          ]
        },
        {
          "output_type": "stream",
          "name": "stderr",
          "text": [
            "100%|██████████| 1648877/1648877 [00:00<00:00, 41253192.14it/s]\n"
          ]
        },
        {
          "output_type": "stream",
          "name": "stdout",
          "text": [
            "Extracting ./data/MNIST/raw/t10k-images-idx3-ubyte.gz to ./data/MNIST/raw\n",
            "\n",
            "Downloading http://yann.lecun.com/exdb/mnist/t10k-labels-idx1-ubyte.gz\n",
            "Downloading http://yann.lecun.com/exdb/mnist/t10k-labels-idx1-ubyte.gz to ./data/MNIST/raw/t10k-labels-idx1-ubyte.gz\n"
          ]
        },
        {
          "output_type": "stream",
          "name": "stderr",
          "text": [
            "100%|██████████| 4542/4542 [00:00<00:00, 5207908.36it/s]\n"
          ]
        },
        {
          "output_type": "stream",
          "name": "stdout",
          "text": [
            "Extracting ./data/MNIST/raw/t10k-labels-idx1-ubyte.gz to ./data/MNIST/raw\n",
            "\n"
          ]
        }
      ]
    },
    {
      "cell_type": "code",
      "metadata": {
        "id": "gg-B6om4pl2g"
      },
      "source": [
        "X = train_set.data.numpy()\n",
        "X_test = test_set.data.numpy()\n",
        "Y = train_set.targets.numpy()\n",
        "Y_test = test_set.targets.numpy()\n",
        "\n",
        "X = X[:,None,:,:]/255\n",
        "X_test = X_test[:,None,:,:]/255"
      ],
      "execution_count": null,
      "outputs": []
    },
    {
      "cell_type": "code",
      "metadata": {
        "colab": {
          "base_uri": "https://localhost:8080/"
        },
        "outputId": "2538bf05-6329-4024-96b1-226cf749922e",
        "id": "1vBIL7dhpl2h"
      },
      "source": [
        "X.shape"
      ],
      "execution_count": null,
      "outputs": [
        {
          "output_type": "execute_result",
          "data": {
            "text/plain": [
              "(60000, 1, 28, 28)"
            ]
          },
          "metadata": {},
          "execution_count": 9
        }
      ]
    },
    {
      "cell_type": "code",
      "source": [
        "x = X[3,0,:,:]"
      ],
      "metadata": {
        "id": "hkS1MDAICmed"
      },
      "execution_count": null,
      "outputs": []
    },
    {
      "cell_type": "code",
      "source": [
        "plt.imshow(x)"
      ],
      "metadata": {
        "colab": {
          "base_uri": "https://localhost:8080/",
          "height": 448
        },
        "id": "Ey0eWrWQC1xM",
        "outputId": "e7a6fb44-c796-43a3-83d8-b0898d04fd7b"
      },
      "execution_count": null,
      "outputs": [
        {
          "output_type": "execute_result",
          "data": {
            "text/plain": [
              "<matplotlib.image.AxesImage at 0x7aba5ae249d0>"
            ]
          },
          "metadata": {},
          "execution_count": 30
        },
        {
          "output_type": "display_data",
          "data": {
            "text/plain": [
              "<Figure size 640x480 with 1 Axes>"
            ],
            "image/png": "[encoded data removed]"
          },
          "metadata": {}
        }
      ]
    },
    {
      "cell_type": "code",
      "source": [
        "plot(x)"
      ],
      "metadata": {
        "colab": {
          "base_uri": "https://localhost:8080/",
          "height": 576
        },
        "id": "Sts6RnquDhk7",
        "outputId": "be4cf44e-f703-474e-a23c-ca13b6bac54b"
      },
      "execution_count": null,
      "outputs": [
        {
          "output_type": "display_data",
          "data": {
            "text/plain": [
              "<Figure size 700x700 with 1 Axes>"
            ],
            "image/png": "[encoded data removed]"
          },
          "metadata": {}
        }
      ]
    },
    {
      "cell_type": "code",
      "source": [
        "x.shape"
      ],
      "metadata": {
        "colab": {
          "base_uri": "https://localhost:8080/"
        },
        "id": "kUIWiq0LElLM",
        "outputId": "1bf2e26e-60e5-4cc5-a46f-cfaf3ddb6597"
      },
      "execution_count": null,
      "outputs": [
        {
          "output_type": "execute_result",
          "data": {
            "text/plain": [
              "(28, 28)"
            ]
          },
          "metadata": {},
          "execution_count": 32
        }
      ]
    },
    {
      "cell_type": "code",
      "source": [
        "x.shape[0]"
      ],
      "metadata": {
        "colab": {
          "base_uri": "https://localhost:8080/"
        },
        "id": "AMNAyQkvEm2S",
        "outputId": "86a537d6-e6a7-4f50-8202-a7929fa6c10e"
      },
      "execution_count": null,
      "outputs": [
        {
          "output_type": "execute_result",
          "data": {
            "text/plain": [
              "28"
            ]
          },
          "metadata": {},
          "execution_count": 33
        }
      ]
    },
    {
      "cell_type": "code",
      "source": [
        "x.shape[1]"
      ],
      "metadata": {
        "colab": {
          "base_uri": "https://localhost:8080/"
        },
        "id": "jy2J7xliEsFq",
        "outputId": "0ca47485-021b-4988-9563-1e84677fcdf0"
      },
      "execution_count": null,
      "outputs": [
        {
          "output_type": "execute_result",
          "data": {
            "text/plain": [
              "28"
            ]
          },
          "metadata": {},
          "execution_count": 34
        }
      ]
    },
    {
      "cell_type": "code",
      "source": [
        "x = x.reshape(x.shape[0]*x.shape[1],1)"
      ],
      "metadata": {
        "id": "MVzBMr3ODJbV"
      },
      "execution_count": null,
      "outputs": []
    },
    {
      "cell_type": "code",
      "source": [
        "x.shape"
      ],
      "metadata": {
        "colab": {
          "base_uri": "https://localhost:8080/"
        },
        "id": "jN4wHqbpDkox",
        "outputId": "9f2f1382-28df-4ddd-b82c-eda632542be0"
      },
      "execution_count": null,
      "outputs": [
        {
          "output_type": "execute_result",
          "data": {
            "text/plain": [
              "(784, 1)"
            ]
          },
          "metadata": {},
          "execution_count": 36
        }
      ]
    },
    {
      "cell_type": "code",
      "source": [
        "x = x.reshape(28,28)"
      ],
      "metadata": {
        "id": "yiRk_VSSD_vz"
      },
      "execution_count": null,
      "outputs": []
    },
    {
      "cell_type": "code",
      "source": [
        "plot(x)"
      ],
      "metadata": {
        "colab": {
          "base_uri": "https://localhost:8080/",
          "height": 576
        },
        "id": "1n3-IkGeEF6T",
        "outputId": "191e799c-e018-4a25-f6bc-d9052baf2a6e"
      },
      "execution_count": null,
      "outputs": [
        {
          "output_type": "display_data",
          "data": {
            "text/plain": [
              "<Figure size 700x700 with 1 Axes>"
            ],
            "image/png": "[encoded data removed]"
          },
          "metadata": {}
        }
      ]
    },
    {
      "cell_type": "code",
      "metadata": {
        "colab": {
          "base_uri": "https://localhost:8080/",
          "height": 576
        },
        "outputId": "a2b9e840-75a9-483c-8bd5-5393fff536b7",
        "id": "_o384DZXpl2h"
      },
      "source": [
        "plot(X[100,0,:,:])"
      ],
      "execution_count": null,
      "outputs": [
        {
          "output_type": "display_data",
          "data": {
            "text/plain": [
              "<Figure size 700x700 with 1 Axes>"
            ],
            "image/png": "[encoded data removed]"
          },
          "metadata": {}
        }
      ]
    },
    {
      "cell_type": "code",
      "metadata": {
        "colab": {
          "base_uri": "https://localhost:8080/"
        },
        "outputId": "b1c2e460-cab4-42e1-8083-5bdaca387cfb",
        "id": "3-RBJefNpl2h"
      },
      "source": [
        "Y[120]"
      ],
      "execution_count": null,
      "outputs": [
        {
          "output_type": "execute_result",
          "data": {
            "text/plain": [
              "2"
            ]
          },
          "metadata": {},
          "execution_count": 40
        }
      ]
    },
    {
      "cell_type": "code",
      "metadata": {
        "colab": {
          "base_uri": "https://localhost:8080/"
        },
        "outputId": "e144720c-d2f8-46cc-d8e9-de6f07c0db80",
        "id": "WLY5zYmkpl2i"
      },
      "source": [
        "X[0:25,0,:,:].shape"
      ],
      "execution_count": null,
      "outputs": [
        {
          "output_type": "execute_result",
          "data": {
            "text/plain": [
              "(25, 28, 28)"
            ]
          },
          "metadata": {},
          "execution_count": 41
        }
      ]
    },
    {
      "cell_type": "code",
      "metadata": {
        "colab": {
          "base_uri": "https://localhost:8080/",
          "height": 576
        },
        "outputId": "fa5c1018-9e17-451b-9ee6-7b1dcbc2d851",
        "id": "o-E8Pm-_pl2i"
      },
      "source": [
        "montage_plot(X[125:150,0,:,:])"
      ],
      "execution_count": null,
      "outputs": [
        {
          "output_type": "display_data",
          "data": {
            "text/plain": [
              "<Figure size 700x700 with 1 Axes>"
            ],
            "image/png": "[encoded data removed]"
          },
          "metadata": {}
        }
      ]
    },
    {
      "cell_type": "code",
      "metadata": {
        "colab": {
          "base_uri": "https://localhost:8080/"
        },
        "outputId": "744ee04f-08e5-4aef-9e24-a32be7162e02",
        "id": "wMDDxcCOpl2i"
      },
      "source": [
        "X.shape[1]"
      ],
      "execution_count": null,
      "outputs": [
        {
          "output_type": "execute_result",
          "data": {
            "text/plain": [
              "1"
            ]
          },
          "metadata": {},
          "execution_count": 43
        }
      ]
    },
    {
      "cell_type": "code",
      "metadata": {
        "colab": {
          "base_uri": "https://localhost:8080/"
        },
        "outputId": "5a0c0eb0-dc90-4ec5-89df-1ed8eda8711d",
        "id": "CP91C9Elpl2i"
      },
      "source": [
        "X_test.shape"
      ],
      "execution_count": null,
      "outputs": [
        {
          "output_type": "execute_result",
          "data": {
            "text/plain": [
              "(10000, 1, 28, 28)"
            ]
          },
          "metadata": {},
          "execution_count": 44
        }
      ]
    },
    {
      "cell_type": "code",
      "metadata": {
        "colab": {
          "base_uri": "https://localhost:8080/"
        },
        "outputId": "14f536a6-30c2-4b1b-9e0c-3f9107a2f4a0",
        "id": "BlH93YkNpl2j"
      },
      "source": [
        "X.shape[0]"
      ],
      "execution_count": null,
      "outputs": [
        {
          "output_type": "execute_result",
          "data": {
            "text/plain": [
              "60000"
            ]
          },
          "metadata": {},
          "execution_count": 45
        }
      ]
    },
    {
      "cell_type": "code",
      "metadata": {
        "colab": {
          "base_uri": "https://localhost:8080/"
        },
        "outputId": "b5597c75-ebd9-4736-a8bb-80b7740fe306",
        "id": "FTLOOvdipl2j"
      },
      "source": [
        "X_test.shape[0]"
      ],
      "execution_count": null,
      "outputs": [
        {
          "output_type": "execute_result",
          "data": {
            "text/plain": [
              "10000"
            ]
          },
          "metadata": {},
          "execution_count": 46
        }
      ]
    },
    {
      "cell_type": "code",
      "metadata": {
        "id": "CJRGYxtBpl2j"
      },
      "source": [
        "X = X.reshape(X.shape[0],784)\n",
        "X_test = X_test.reshape(X_test.shape[0],784)"
      ],
      "execution_count": null,
      "outputs": []
    },
    {
      "cell_type": "code",
      "metadata": {
        "colab": {
          "base_uri": "https://localhost:8080/"
        },
        "outputId": "cbe4cb25-77e2-424c-c8d0-95e7c0c16c20",
        "id": "LWUPirgjpl2j"
      },
      "source": [
        "X.shape,X_test.shape"
      ],
      "execution_count": null,
      "outputs": [
        {
          "output_type": "execute_result",
          "data": {
            "text/plain": [
              "((60000, 784), (10000, 784))"
            ]
          },
          "metadata": {},
          "execution_count": 48
        }
      ]
    },
    {
      "cell_type": "code",
      "metadata": {
        "colab": {
          "base_uri": "https://localhost:8080/",
          "height": 448
        },
        "outputId": "2daf6a84-bf67-4667-f463-2a896de0442a",
        "id": "gNUXtEdrpl2k"
      },
      "source": [
        "plt.plot(X[100],'.')"
      ],
      "execution_count": null,
      "outputs": [
        {
          "output_type": "execute_result",
          "data": {
            "text/plain": [
              "[<matplotlib.lines.Line2D at 0x7aba5afd3e20>]"
            ]
          },
          "metadata": {},
          "execution_count": 49
        },
        {
          "output_type": "display_data",
          "data": {
            "text/plain": [
              "<Figure size 640x480 with 1 Axes>"
            ],
            "image/png": "[encoded data removed]"
          },
          "metadata": {}
        }
      ]
    },
    {
      "cell_type": "code",
      "metadata": {
        "id": "dv0M1DuOpl2k",
        "colab": {
          "base_uri": "https://localhost:8080/"
        },
        "outputId": "5409d8ba-6f03-4489-9f92-734049e305de"
      },
      "source": [
        "X = GPU_data(X)\n",
        "Y = GPU_data(Y)\n",
        "X_test = GPU_data(X_test)\n",
        "Y_test = GPU_data(Y_test)"
      ],
      "execution_count": null,
      "outputs": [
        {
          "output_type": "stream",
          "name": "stderr",
          "text": [
            "<ipython-input-3-c3d856de2607>:5: UserWarning: To copy construct from a tensor, it is recommended to use sourceTensor.clone().detach() or sourceTensor.clone().detach().requires_grad_(True), rather than torch.tensor(sourceTensor).\n",
            "  return torch.tensor(data, requires_grad=False, dtype=torch.float, device=torch.device('cuda'))\n"
          ]
        }
      ]
    },
    {
      "cell_type": "code",
      "metadata": {
        "id": "2LDQPWgtpl2k"
      },
      "source": [
        "###################################################"
      ],
      "execution_count": null,
      "outputs": []
    },
    {
      "cell_type": "code",
      "source": [
        "X.shape"
      ],
      "metadata": {
        "id": "afqyUTTQzqP1",
        "colab": {
          "base_uri": "https://localhost:8080/"
        },
        "outputId": "9d08054a-d283-45e6-e2ec-f086138d1214"
      },
      "execution_count": null,
      "outputs": [
        {
          "output_type": "execute_result",
          "data": {
            "text/plain": [
              "torch.Size([60000, 784])"
            ]
          },
          "metadata": {},
          "execution_count": 53
        }
      ]
    },
    {
      "cell_type": "code",
      "source": [
        "X = X.T"
      ],
      "metadata": {
        "id": "SD3LnOUGG15-"
      },
      "execution_count": null,
      "outputs": []
    },
    {
      "cell_type": "code",
      "source": [
        "X.shape"
      ],
      "metadata": {
        "colab": {
          "base_uri": "https://localhost:8080/"
        },
        "id": "guRzWM8aG99u",
        "outputId": "6c5647a0-0e49-4714-c63f-df0cc0d2c029"
      },
      "execution_count": null,
      "outputs": [
        {
          "output_type": "execute_result",
          "data": {
            "text/plain": [
              "torch.Size([784, 60000])"
            ]
          },
          "metadata": {},
          "execution_count": 56
        }
      ]
    },
    {
      "cell_type": "code",
      "source": [
        "x = X[:,0:64]"
      ],
      "metadata": {
        "id": "QcW8gTw-HuwH"
      },
      "execution_count": null,
      "outputs": []
    },
    {
      "cell_type": "code",
      "source": [
        "Y[0:64]"
      ],
      "metadata": {
        "colab": {
          "base_uri": "https://localhost:8080/"
        },
        "id": "IkBALdPWHy-X",
        "outputId": "ac2a6376-2279-4f00-c699-f5e0510b6c00"
      },
      "execution_count": null,
      "outputs": [
        {
          "output_type": "execute_result",
          "data": {
            "text/plain": [
              "tensor([5., 0., 4., 1., 9., 2., 1., 3., 1., 4., 3., 5., 3., 6., 1., 7., 2., 8.,\n",
              "        6., 9., 4., 0., 9., 1., 1., 2., 4., 3., 2., 7., 3., 8., 6., 9., 0., 5.,\n",
              "        6., 0., 7., 6., 1., 8., 7., 9., 3., 9., 8., 5., 9., 3., 3., 0., 7., 4.,\n",
              "        9., 8., 0., 9., 4., 1., 4., 4., 6., 0.], device='cuda:0')"
            ]
          },
          "metadata": {},
          "execution_count": 90
        }
      ]
    },
    {
      "cell_type": "code",
      "source": [
        "plot(x[:,62].reshape(28,28))"
      ],
      "metadata": {
        "colab": {
          "base_uri": "https://localhost:8080/",
          "height": 576
        },
        "id": "ptrJUbQzH0pG",
        "outputId": "979de6cc-988c-4d9f-c815-655785d48c81"
      },
      "execution_count": null,
      "outputs": [
        {
          "output_type": "display_data",
          "data": {
            "text/plain": [
              "<Figure size 700x700 with 1 Axes>"
            ],
            "image/png": "[encoded data removed]"
          },
          "metadata": {}
        }
      ]
    },
    {
      "cell_type": "code",
      "source": [
        "M = GPU(np.random.rand(10,784))"
      ],
      "metadata": {
        "id": "6Ke1AL2NG-d9"
      },
      "execution_count": null,
      "outputs": []
    },
    {
      "cell_type": "code",
      "source": [
        "M.shape,x.shape"
      ],
      "metadata": {
        "colab": {
          "base_uri": "https://localhost:8080/"
        },
        "id": "70OhyyP_HSWa",
        "outputId": "6147d39b-945f-457f-a5bf-8478b7effc1c"
      },
      "execution_count": null,
      "outputs": [
        {
          "output_type": "execute_result",
          "data": {
            "text/plain": [
              "(torch.Size([10, 784]), torch.Size([784, 64]))"
            ]
          },
          "metadata": {},
          "execution_count": 136
        }
      ]
    },
    {
      "cell_type": "code",
      "source": [
        "#M@x"
      ],
      "metadata": {
        "id": "6k_1FPE5HTaq"
      },
      "execution_count": null,
      "outputs": []
    },
    {
      "cell_type": "code",
      "source": [
        "y = M@x"
      ],
      "metadata": {
        "id": "fCCxl8kuI33s"
      },
      "execution_count": null,
      "outputs": []
    },
    {
      "cell_type": "code",
      "source": [
        "y.shape"
      ],
      "metadata": {
        "colab": {
          "base_uri": "https://localhost:8080/"
        },
        "id": "_gKWpMyAI-aN",
        "outputId": "d46513d8-63a8-4899-cf49-0f91ae95dd91"
      },
      "execution_count": null,
      "outputs": [
        {
          "output_type": "execute_result",
          "data": {
            "text/plain": [
              "torch.Size([10, 64])"
            ]
          },
          "metadata": {},
          "execution_count": 139
        }
      ]
    },
    {
      "cell_type": "code",
      "source": [
        "torch.max(y,0)"
      ],
      "metadata": {
        "colab": {
          "base_uri": "https://localhost:8080/"
        },
        "id": "dAn4IaAsKE69",
        "outputId": "6b0f5763-5056-4e1e-9692-e09d5f349bbb"
      },
      "execution_count": null,
      "outputs": [
        {
          "output_type": "execute_result",
          "data": {
            "text/plain": [
              "torch.return_types.max(\n",
              "values=tensor([57.8822, 66.1572, 41.7054, 36.9024, 50.4140, 62.5300, 37.4586, 72.7023,\n",
              "        25.0416, 46.6359, 58.0633, 29.4856, 71.7031, 60.7168, 24.7614, 52.5412,\n",
              "        51.4592, 56.8233, 29.7063, 38.8253, 71.0997, 75.7450, 36.2285, 35.2304,\n",
              "        50.8219, 85.7513, 28.7340, 92.2339, 85.3663, 35.3726, 53.1592, 68.1660,\n",
              "        38.6603, 44.7216, 75.5154, 34.1373, 67.2675, 75.7203, 46.8816, 57.7967,\n",
              "        30.2621, 57.2824, 28.4077, 38.0878, 34.9773, 50.6909, 48.0030, 49.5364,\n",
              "        35.5432, 67.1850, 39.0880, 96.4034, 56.3996, 36.7963, 49.9645, 65.4546,\n",
              "        86.6446, 42.1887, 68.7573, 35.0293, 62.5580, 38.1140, 62.6001, 93.1392],\n",
              "       device='cuda:0', grad_fn=<MaxBackward0>),\n",
              "indices=tensor([7, 1, 9, 7, 1, 1, 1, 8, 1, 6, 1, 3, 6, 5, 4, 1, 1, 1, 5, 7, 9, 1, 7, 7,\n",
              "        1, 8, 1, 9, 4, 5, 4, 1, 5, 7, 7, 1, 1, 5, 7, 5, 1, 7, 1, 7, 7, 1, 1, 1,\n",
              "        8, 1, 7, 1, 7, 7, 4, 5, 1, 7, 1, 7, 6, 5, 1, 1], device='cuda:0'))"
            ]
          },
          "metadata": {},
          "execution_count": 140
        }
      ]
    },
    {
      "cell_type": "code",
      "source": [
        "y = torch.argmax(y,0)"
      ],
      "metadata": {
        "id": "6BL4Z02EJCzc"
      },
      "execution_count": null,
      "outputs": []
    },
    {
      "cell_type": "code",
      "source": [
        "y"
      ],
      "metadata": {
        "colab": {
          "base_uri": "https://localhost:8080/"
        },
        "id": "KLbZQBv5JKn8",
        "outputId": "319b7a4c-9339-46e4-9740-4ced4bb77ce1"
      },
      "execution_count": null,
      "outputs": [
        {
          "output_type": "execute_result",
          "data": {
            "text/plain": [
              "tensor([7, 1, 9, 7, 1, 1, 1, 8, 1, 6, 1, 3, 6, 5, 4, 1, 1, 1, 5, 7, 9, 1, 7, 7,\n",
              "        1, 8, 1, 9, 4, 5, 4, 1, 5, 7, 7, 1, 1, 5, 7, 5, 1, 7, 1, 7, 7, 1, 1, 1,\n",
              "        8, 1, 7, 1, 7, 7, 4, 5, 1, 7, 1, 7, 6, 5, 1, 1], device='cuda:0')"
            ]
          },
          "metadata": {},
          "execution_count": 142
        }
      ]
    },
    {
      "cell_type": "code",
      "source": [
        "Y[0:64]"
      ],
      "metadata": {
        "colab": {
          "base_uri": "https://localhost:8080/"
        },
        "id": "-h8Gz74YKVCL",
        "outputId": "7cb18787-df16-4a0c-b906-675f72d0a9a5"
      },
      "execution_count": null,
      "outputs": [
        {
          "output_type": "execute_result",
          "data": {
            "text/plain": [
              "tensor([5., 0., 4., 1., 9., 2., 1., 3., 1., 4., 3., 5., 3., 6., 1., 7., 2., 8.,\n",
              "        6., 9., 4., 0., 9., 1., 1., 2., 4., 3., 2., 7., 3., 8., 6., 9., 0., 5.,\n",
              "        6., 0., 7., 6., 1., 8., 7., 9., 3., 9., 8., 5., 9., 3., 3., 0., 7., 4.,\n",
              "        9., 8., 0., 9., 4., 1., 4., 4., 6., 0.], device='cuda:0')"
            ]
          },
          "metadata": {},
          "execution_count": 143
        }
      ]
    },
    {
      "cell_type": "code",
      "source": [
        "y == Y[0:64]"
      ],
      "metadata": {
        "colab": {
          "base_uri": "https://localhost:8080/"
        },
        "id": "gC4DXNrHKYer",
        "outputId": "452ba908-b83a-4141-94e6-871f88c3ddd9"
      },
      "execution_count": null,
      "outputs": [
        {
          "output_type": "execute_result",
          "data": {
            "text/plain": [
              "tensor([False, False, False, False, False, False,  True, False,  True, False,\n",
              "        False, False, False, False, False, False, False, False, False, False,\n",
              "        False, False, False, False,  True, False, False, False, False, False,\n",
              "        False, False, False, False, False, False, False, False,  True, False,\n",
              "         True, False, False, False, False, False, False, False, False, False,\n",
              "        False, False,  True, False, False, False, False, False, False, False,\n",
              "        False, False, False, False], device='cuda:0')"
            ]
          },
          "metadata": {},
          "execution_count": 144
        }
      ]
    },
    {
      "cell_type": "code",
      "source": [
        "torch.sum((y == Y[0:64]))"
      ],
      "metadata": {
        "colab": {
          "base_uri": "https://localhost:8080/"
        },
        "id": "RmdOhGJSKgEK",
        "outputId": "b5329e75-2a0a-4c1b-c86a-d2c96209a47d"
      },
      "execution_count": null,
      "outputs": [
        {
          "output_type": "execute_result",
          "data": {
            "text/plain": [
              "tensor(6, device='cuda:0')"
            ]
          },
          "metadata": {},
          "execution_count": 145
        }
      ]
    },
    {
      "cell_type": "code",
      "source": [
        "torch.sum((y == Y[0:64]))/64"
      ],
      "metadata": {
        "id": "Y_vbum_LKix6",
        "outputId": "b1a3a42e-a9c5-4231-8064-b8984a675450",
        "colab": {
          "base_uri": "https://localhost:8080/"
        }
      },
      "execution_count": null,
      "outputs": [
        {
          "output_type": "execute_result",
          "data": {
            "text/plain": [
              "tensor(0.0938, device='cuda:0')"
            ]
          },
          "metadata": {},
          "execution_count": 146
        }
      ]
    },
    {
      "cell_type": "code",
      "source": [],
      "metadata": {
        "id": "VlHcWLndKotL"
      },
      "execution_count": null,
      "outputs": []
    },
    {
      "cell_type": "code",
      "source": [
        "batch_size = 64\n",
        "\n",
        "M = GPU(np.random.rand(10,784))\n",
        "\n",
        "y = M@x\n",
        "\n",
        "y = torch.argmax(y,0)\n",
        "\n",
        "torch.sum((y == Y[0:batch_size]))/batch_size"
      ],
      "metadata": {
        "colab": {
          "base_uri": "https://localhost:8080/"
        },
        "id": "rvBOU7RDBj5T",
        "outputId": "a83bb51c-4800-49f6-ee9f-37a365ccbe58"
      },
      "execution_count": null,
      "outputs": [
        {
          "output_type": "execute_result",
          "data": {
            "text/plain": [
              "tensor(0.0781, device='cuda:0')"
            ]
          },
          "metadata": {},
          "execution_count": 156
        }
      ]
    },
    {
      "cell_type": "code",
      "source": [
        "M_Best = 0\n",
        "Score_Best = 0\n",
        "\n",
        "for i in range(100000):\n",
        "\n",
        "    M_new = GPU(np.random.rand(10,784))\n",
        "\n",
        "    y = M_new@x\n",
        "\n",
        "    y = torch.argmax(y,0)\n",
        "\n",
        "    Score = (torch.sum((y == Y[0:batch_size]))/batch_size).item()\n",
        "\n",
        "    if Score > Score_Best:\n",
        "\n",
        "        Score_Best = Score\n",
        "        M_Best = M_new\n",
        "\n",
        "        print(i,Score_Best)\n",
        "\n"
      ],
      "metadata": {
        "id": "6eVpNWpUBgiz"
      },
      "execution_count": null,
      "outputs": []
    },
    {
      "cell_type": "code",
      "source": [
        "#37"
      ],
      "metadata": {
        "id": "5uhymgL3Bgky"
      },
      "execution_count": null,
      "outputs": []
    },
    {
      "cell_type": "code",
      "source": [
        "plot(GPU(np.random.randn(10,784)))"
      ],
      "metadata": {
        "colab": {
          "base_uri": "https://localhost:8080/",
          "height": 43
        },
        "id": "_mnYUnWHF4eZ",
        "outputId": "70813ec6-b835-4cc9-a06c-ea228f66c1e7"
      },
      "execution_count": null,
      "outputs": [
        {
          "output_type": "display_data",
          "data": {
            "text/plain": [
              "<Figure size 700x700 with 1 Axes>"
            ],
            "image/png": "[encoded data removed]"
          },
          "metadata": {}
        }
      ]
    },
    {
      "cell_type": "code",
      "source": [],
      "metadata": {
        "id": "fHiYBSJjlIgE"
      },
      "execution_count": null,
      "outputs": []
    },
    {
      "cell_type": "code",
      "source": [],
      "metadata": {
        "id": "O7L7x00KlRos"
      },
      "execution_count": null,
      "outputs": []
    },
    {
      "cell_type": "code",
      "source": [],
      "metadata": {
        "id": "1te8vAKNlRsL"
      },
      "execution_count": null,
      "outputs": []
    },
    {
      "cell_type": "code",
      "source": [],
      "metadata": {
        "id": "lXSb3TsulRu-"
      },
      "execution_count": null,
      "outputs": []
    },
    {
      "cell_type": "code",
      "source": [],
      "metadata": {
        "id": "tJ3hAhfOlRxl"
      },
      "execution_count": null,
      "outputs": []
    },
    {
      "cell_type": "code",
      "source": [],
      "metadata": {
        "id": "txTj8SoelRzx"
      },
      "execution_count": null,
      "outputs": []
    },
    {
      "cell_type": "code",
      "source": [],
      "metadata": {
        "id": "E5abJlDRlR2L"
      },
      "execution_count": null,
      "outputs": []
    },
    {
      "cell_type": "code",
      "source": [
        "# Random Walk"
      ],
      "metadata": {
        "id": "3DTpAf2AlR4X"
      },
      "execution_count": null,
      "outputs": []
    },
    {
      "cell_type": "code",
      "source": [
        "import torch\n",
        "import numpy as np\n",
        "import torchvision\n",
        "import torchvision.datasets as datasets\n",
        "import matplotlib.pyplot as plt"
      ],
      "metadata": {
        "id": "X3TWsxFre9G5"
      },
      "execution_count": null,
      "outputs": []
    },
    {
      "cell_type": "code",
      "source": [
        "def plot(x,title=None):\n",
        "    if type(x) == torch.Tensor :\n",
        "        x = x.cpu().detach().numpy()\n",
        "\n",
        "    fig, ax = plt.subplots()\n",
        "    im = ax.imshow(x, cmap = 'gray')\n",
        "    ax.axis('off')\n",
        "    fig.set_size_inches(7, 7)\n",
        "    plt.title(title)\n",
        "    plt.show()"
      ],
      "metadata": {
        "id": "GCpFIiRFnhYA"
      },
      "execution_count": null,
      "outputs": []
    },
    {
      "cell_type": "code",
      "source": [
        "##MNIST\n",
        "train_set = datasets.MNIST('./data', train=True, download=True)\n",
        "test_set = datasets.MNIST('./data', train=False, download=True)\n",
        "\n",
        "#KMNIST\n",
        "# train_set = datasets.KMNIST('./data', train=True, download=True)\n",
        "# test_set = datasets.KMNIST('./data', train=False, download=True)\n",
        "\n",
        "# Fashion MNIST\n",
        "#train_set = datasets.FashionMNIST('./data', train=True, download=True)\n",
        "#test_set = datasets.FashionMNIST('./data', train=False, download=True)"
      ],
      "metadata": {
        "id": "ZSjTh1VbfLhd"
      },
      "execution_count": null,
      "outputs": []
    },
    {
      "cell_type": "code",
      "source": [
        "X = train_set.data.numpy()\n",
        "X_test = test_set.data.numpy()\n",
        "Y = train_set.targets.numpy()\n",
        "Y_test = test_set.targets.numpy()\n",
        "\n",
        "X = X[:,None,:,:]/255\n",
        "X_test = X_test[:,None,:,:]/255"
      ],
      "metadata": {
        "id": "ou4RzKGbfOO2"
      },
      "execution_count": null,
      "outputs": []
    },
    {
      "cell_type": "code",
      "source": [
        "X.shape"
      ],
      "metadata": {
        "colab": {
          "base_uri": "https://localhost:8080/"
        },
        "id": "nQqpKb35fZow",
        "outputId": "105a4e9b-465e-4560-b918-55ab45917834"
      },
      "execution_count": null,
      "outputs": [
        {
          "output_type": "execute_result",
          "data": {
            "text/plain": [
              "(60000, 1, 28, 28)"
            ]
          },
          "metadata": {},
          "execution_count": 106
        }
      ]
    },
    {
      "cell_type": "code",
      "source": [
        "plt.imshow(X[0,0,:,:],cmap='gray')"
      ],
      "metadata": {
        "id": "OSO7fEmpfp7H",
        "colab": {
          "base_uri": "https://localhost:8080/",
          "height": 447
        },
        "outputId": "f2da6549-9114-450c-d6f3-0965f495be0d"
      },
      "execution_count": null,
      "outputs": [
        {
          "output_type": "execute_result",
          "data": {
            "text/plain": [
              "<matplotlib.image.AxesImage at 0x7a995ea24fd0>"
            ]
          },
          "metadata": {},
          "execution_count": 107
        },
        {
          "output_type": "display_data",
          "data": {
            "text/plain": [
              "<Figure size 640x480 with 1 Axes>"
            ],
            "image/png": "[encoded data removed]"
          },
          "metadata": {}
        }
      ]
    },
    {
      "cell_type": "code",
      "source": [
        "\n",
        "for i in range(10):\n",
        "    plt.imshow(X[i,0,:,:],cmap='gray')\n",
        "    plt.title(str(Y[i]))\n",
        "    plt.show()"
      ],
      "metadata": {
        "id": "KS0DeV8rf-yw",
        "colab": {
          "base_uri": "https://localhost:8080/",
          "height": 1000
        },
        "outputId": "47c054b5-4292-450a-d32f-c05d3049a584"
      },
      "execution_count": null,
      "outputs": [
        {
          "output_type": "display_data",
          "data": {
            "text/plain": [
              "<Figure size 640x480 with 1 Axes>"
            ],
            "image/png": "[encoded data removed]"
          },
          "metadata": {}
        },
        {
          "output_type": "display_data",
          "data": {
            "text/plain": [
              "<Figure size 640x480 with 1 Axes>"
            ],
            "image/png": "[encoded data removed]"
          },
          "metadata": {}
        },
        {
          "output_type": "display_data",
          "data": {
            "text/plain": [
              "<Figure size 640x480 with 1 Axes>"
            ],
            "image/png": "[encoded data removed]"
          },
          "metadata": {}
        },
        {
          "output_type": "display_data",
          "data": {
            "text/plain": [
              "<Figure size 640x480 with 1 Axes>"
            ],
            "image/png": "[encoded data removed]"
          },
          "metadata": {}
        },
        {
          "output_type": "display_data",
          "data": {
            "text/plain": [
              "<Figure size 640x480 with 1 Axes>"
            ],
            "image/png": "[encoded data removed]"
          },
          "metadata": {}
        },
        {
          "output_type": "display_data",
          "data": {
            "text/plain": [
              "<Figure size 640x480 with 1 Axes>"
            ],
            "image/png": "[encoded data removed]"
          },
          "metadata": {}
        },
        {
          "output_type": "display_data",
          "data": {
            "text/plain": [
              "<Figure size 640x480 with 1 Axes>"
            ],
            "image/png": "[encoded data removed]"
          },
          "metadata": {}
        },
        {
          "output_type": "display_data",
          "data": {
            "text/plain": [
              "<Figure size 640x480 with 1 Axes>"
            ],
            "image/png": "[encoded data removed]"
          },
          "metadata": {}
        },
        {
          "output_type": "display_data",
          "data": {
            "text/plain": [
              "<Figure size 640x480 with 1 Axes>"
            ],
            "image/png": "[encoded data removed]"
          },
          "metadata": {}
        },
        {
          "output_type": "display_data",
          "data": {
            "text/plain": [
              "<Figure size 640x480 with 1 Axes>"
            ],
            "image/png": "[encoded data removed]"
          },
          "metadata": {}
        }
      ]
    },
    {
      "cell_type": "code",
      "source": [
        "Y[0:10]"
      ],
      "metadata": {
        "colab": {
          "base_uri": "https://localhost:8080/"
        },
        "id": "3NhqnG9sgLDt",
        "outputId": "073a2d57-4ea0-4962-eba0-280c13fc240f"
      },
      "execution_count": null,
      "outputs": [
        {
          "output_type": "execute_result",
          "data": {
            "text/plain": [
              "array([5, 0, 4, 1, 9, 2, 1, 3, 1, 4])"
            ]
          },
          "metadata": {},
          "execution_count": 109
        }
      ]
    },
    {
      "cell_type": "code",
      "source": [
        "X[0,0,:,:].shape"
      ],
      "metadata": {
        "colab": {
          "base_uri": "https://localhost:8080/"
        },
        "id": "yoVzBNsRgt_m",
        "outputId": "85995123-2da4-41ca-ab7a-dc9205041053"
      },
      "execution_count": null,
      "outputs": [
        {
          "output_type": "execute_result",
          "data": {
            "text/plain": [
              "(28, 28)"
            ]
          },
          "metadata": {},
          "execution_count": 110
        }
      ]
    },
    {
      "cell_type": "code",
      "source": [
        "x = X[0,0,:,:].flatten()"
      ],
      "metadata": {
        "id": "Hu1AhSTFhCEj"
      },
      "execution_count": null,
      "outputs": []
    },
    {
      "cell_type": "code",
      "source": [
        "x.shape"
      ],
      "metadata": {
        "colab": {
          "base_uri": "https://localhost:8080/"
        },
        "id": "KXsLqoTxhFCC",
        "outputId": "de9d805a-86da-4ccb-faab-36f0e617ed2f"
      },
      "execution_count": null,
      "outputs": [
        {
          "output_type": "execute_result",
          "data": {
            "text/plain": [
              "(784,)"
            ]
          },
          "metadata": {},
          "execution_count": 112
        }
      ]
    },
    {
      "cell_type": "code",
      "source": [
        "plt.plot(x,'.')"
      ],
      "metadata": {
        "colab": {
          "base_uri": "https://localhost:8080/",
          "height": 447
        },
        "id": "UeiHBEjjhJqi",
        "outputId": "7b931d16-d36f-4b59-9f18-056365883c41"
      },
      "execution_count": null,
      "outputs": [
        {
          "output_type": "execute_result",
          "data": {
            "text/plain": [
              "[<matplotlib.lines.Line2D at 0x7a9978b898a0>]"
            ]
          },
          "metadata": {},
          "execution_count": 113
        },
        {
          "output_type": "display_data",
          "data": {
            "text/plain": [
              "<Figure size 640x480 with 1 Axes>"
            ],
            "image/png": "[encoded data removed]"
          },
          "metadata": {}
        }
      ]
    },
    {
      "cell_type": "code",
      "source": [
        "Y[0]"
      ],
      "metadata": {
        "colab": {
          "base_uri": "https://localhost:8080/"
        },
        "id": "NJvaK9M3hNI4",
        "outputId": "97702af6-d29f-4710-e38f-ad3969181199"
      },
      "execution_count": null,
      "outputs": [
        {
          "output_type": "execute_result",
          "data": {
            "text/plain": [
              "5"
            ]
          },
          "metadata": {},
          "execution_count": 114
        }
      ]
    },
    {
      "cell_type": "code",
      "source": [
        "x = x[:,None]"
      ],
      "metadata": {
        "id": "3fP4Jwl4hbCM"
      },
      "execution_count": null,
      "outputs": []
    },
    {
      "cell_type": "code",
      "source": [
        "x.shape"
      ],
      "metadata": {
        "colab": {
          "base_uri": "https://localhost:8080/"
        },
        "id": "BOHY0I2xhj7N",
        "outputId": "1bc2ee2c-301e-4929-a180-ca751e0fc2cf"
      },
      "execution_count": null,
      "outputs": [
        {
          "output_type": "execute_result",
          "data": {
            "text/plain": [
              "(784, 1)"
            ]
          },
          "metadata": {},
          "execution_count": 116
        }
      ]
    },
    {
      "cell_type": "code",
      "source": [
        "m = np.random.standard_normal((10,784))"
      ],
      "metadata": {
        "id": "W5yrXHqdhla4"
      },
      "execution_count": null,
      "outputs": []
    },
    {
      "cell_type": "code",
      "source": [
        "m.shape,x.shape"
      ],
      "metadata": {
        "colab": {
          "base_uri": "https://localhost:8080/"
        },
        "id": "p-EpGKJWihPn",
        "outputId": "7d98fa0b-a12b-4f73-dc06-c1c975f9b111"
      },
      "execution_count": null,
      "outputs": [
        {
          "output_type": "execute_result",
          "data": {
            "text/plain": [
              "((10, 784), (784, 1))"
            ]
          },
          "metadata": {},
          "execution_count": 118
        }
      ]
    },
    {
      "cell_type": "code",
      "source": [
        "y = m@x # @ mean matmul"
      ],
      "metadata": {
        "id": "Ey55572Kipzy"
      },
      "execution_count": null,
      "outputs": []
    },
    {
      "cell_type": "code",
      "source": [
        "y = np.matmul(m,x)"
      ],
      "metadata": {
        "id": "zswWV2_txFTC"
      },
      "execution_count": null,
      "outputs": []
    },
    {
      "cell_type": "code",
      "source": [
        "y.shape"
      ],
      "metadata": {
        "colab": {
          "base_uri": "https://localhost:8080/"
        },
        "id": "oqeYB-OIxM83",
        "outputId": "7f57201d-848a-4035-f7cd-da9e8c17d4d9"
      },
      "execution_count": null,
      "outputs": [
        {
          "output_type": "execute_result",
          "data": {
            "text/plain": [
              "(10, 1)"
            ]
          },
          "metadata": {},
          "execution_count": 121
        }
      ]
    },
    {
      "cell_type": "code",
      "source": [
        "plt.plot(y,'.')"
      ],
      "metadata": {
        "colab": {
          "base_uri": "https://localhost:8080/",
          "height": 447
        },
        "id": "v32LN4GKiyFK",
        "outputId": "ae1024c2-f5b5-41a5-f5d1-d6f98254a68e"
      },
      "execution_count": null,
      "outputs": [
        {
          "output_type": "execute_result",
          "data": {
            "text/plain": [
              "[<matplotlib.lines.Line2D at 0x7a995e5b0940>]"
            ]
          },
          "metadata": {},
          "execution_count": 122
        },
        {
          "output_type": "display_data",
          "data": {
            "text/plain": [
              "<Figure size 640x480 with 1 Axes>"
            ],
            "image/png": "[encoded data removed]"
          },
          "metadata": {}
        }
      ]
    },
    {
      "cell_type": "code",
      "source": [
        "plt.imshow(x.reshape(28,28))"
      ],
      "metadata": {
        "colab": {
          "base_uri": "https://localhost:8080/",
          "height": 447
        },
        "id": "YVh4mUWRi2Zg",
        "outputId": "3b414e04-bad5-4b31-bb73-b8d937a3d4bf"
      },
      "execution_count": null,
      "outputs": [
        {
          "output_type": "execute_result",
          "data": {
            "text/plain": [
              "<matplotlib.image.AxesImage at 0x7a995e450790>"
            ]
          },
          "metadata": {},
          "execution_count": 123
        },
        {
          "output_type": "display_data",
          "data": {
            "text/plain": [
              "<Figure size 640x480 with 1 Axes>"
            ],
            "image/png": "[encoded data removed]"
          },
          "metadata": {}
        }
      ]
    },
    {
      "cell_type": "code",
      "source": [
        "X.shape"
      ],
      "metadata": {
        "colab": {
          "base_uri": "https://localhost:8080/"
        },
        "id": "ZIi-Di8ji_xC",
        "outputId": "a8631d96-ef7d-4230-9ef8-842ae06d11b6"
      },
      "execution_count": null,
      "outputs": [
        {
          "output_type": "execute_result",
          "data": {
            "text/plain": [
              "(60000, 1, 28, 28)"
            ]
          },
          "metadata": {},
          "execution_count": 124
        }
      ]
    },
    {
      "cell_type": "code",
      "source": [
        "X.shape[0]"
      ],
      "metadata": {
        "colab": {
          "base_uri": "https://localhost:8080/"
        },
        "id": "8fSU88ALjxcG",
        "outputId": "f3cb9400-d23c-46d0-ee11-66aabd7a284c"
      },
      "execution_count": null,
      "outputs": [
        {
          "output_type": "execute_result",
          "data": {
            "text/plain": [
              "60000"
            ]
          },
          "metadata": {},
          "execution_count": 125
        }
      ]
    },
    {
      "cell_type": "code",
      "source": [
        "X.shape[2]*X.shape[3]"
      ],
      "metadata": {
        "colab": {
          "base_uri": "https://localhost:8080/"
        },
        "id": "9whZv4ctj0Gp",
        "outputId": "31f81b32-34e0-425e-8d87-6a1d0b6e6ec2"
      },
      "execution_count": null,
      "outputs": [
        {
          "output_type": "execute_result",
          "data": {
            "text/plain": [
              "784"
            ]
          },
          "metadata": {},
          "execution_count": 126
        }
      ]
    },
    {
      "cell_type": "code",
      "source": [
        "X = np.reshape(X, (X.shape[0],X.shape[2]*X.shape[3]))\n",
        "X_test = np.reshape(X_test, (X_test.shape[0],X_test.shape[2]*X_test.shape[3]))"
      ],
      "metadata": {
        "id": "HdE8XvU_jYgU"
      },
      "execution_count": null,
      "outputs": []
    },
    {
      "cell_type": "code",
      "source": [
        "X.shape"
      ],
      "metadata": {
        "colab": {
          "base_uri": "https://localhost:8080/"
        },
        "id": "_-sFrW0gj716",
        "outputId": "76d909fe-5074-4dd6-cebd-377546db98ec"
      },
      "execution_count": null,
      "outputs": [
        {
          "output_type": "execute_result",
          "data": {
            "text/plain": [
              "(60000, 784)"
            ]
          },
          "metadata": {},
          "execution_count": 128
        }
      ]
    },
    {
      "cell_type": "code",
      "source": [
        "plt.imshow(X[1000,:].reshape(28,28))"
      ],
      "metadata": {
        "colab": {
          "base_uri": "https://localhost:8080/",
          "height": 447
        },
        "id": "txoBhjwBj95y",
        "outputId": "c4e0372b-97a2-4a05-85ca-576c74172c38"
      },
      "execution_count": null,
      "outputs": [
        {
          "output_type": "execute_result",
          "data": {
            "text/plain": [
              "<matplotlib.image.AxesImage at 0x7a9978b73940>"
            ]
          },
          "metadata": {},
          "execution_count": 129
        },
        {
          "output_type": "display_data",
          "data": {
            "text/plain": [
              "<Figure size 640x480 with 1 Axes>"
            ],
            "image/png": "[encoded data removed]"
          },
          "metadata": {}
        }
      ]
    },
    {
      "cell_type": "code",
      "source": [
        "Y[1000]"
      ],
      "metadata": {
        "colab": {
          "base_uri": "https://localhost:8080/"
        },
        "id": "l8CZaznOxt6h",
        "outputId": "f4096772-f260-4ee5-a806-e163224a44fc"
      },
      "execution_count": null,
      "outputs": [
        {
          "output_type": "execute_result",
          "data": {
            "text/plain": [
              "0"
            ]
          },
          "metadata": {},
          "execution_count": 130
        }
      ]
    },
    {
      "cell_type": "code",
      "source": [
        "x = X[0:2,:]"
      ],
      "metadata": {
        "id": "J697Nvj8kHmS"
      },
      "execution_count": null,
      "outputs": []
    },
    {
      "cell_type": "code",
      "source": [
        "x.shape"
      ],
      "metadata": {
        "colab": {
          "base_uri": "https://localhost:8080/"
        },
        "id": "YctgmjB6kNer",
        "outputId": "36e2f7fe-374a-4cb1-8d23-3ae2c99b5881"
      },
      "execution_count": null,
      "outputs": [
        {
          "output_type": "execute_result",
          "data": {
            "text/plain": [
              "(2, 784)"
            ]
          },
          "metadata": {},
          "execution_count": 132
        }
      ]
    },
    {
      "cell_type": "code",
      "source": [
        "x = x.T"
      ],
      "metadata": {
        "id": "XpFHb_pPkOnt"
      },
      "execution_count": null,
      "outputs": []
    },
    {
      "cell_type": "code",
      "source": [
        "m.shape,x.shape"
      ],
      "metadata": {
        "colab": {
          "base_uri": "https://localhost:8080/"
        },
        "id": "H7GfpLKakZKv",
        "outputId": "9d75b22e-59b0-4941-a440-7dedf192c8f5"
      },
      "execution_count": null,
      "outputs": [
        {
          "output_type": "execute_result",
          "data": {
            "text/plain": [
              "((10, 784), (784, 2))"
            ]
          },
          "metadata": {},
          "execution_count": 134
        }
      ]
    },
    {
      "cell_type": "code",
      "source": [
        "y = m@x"
      ],
      "metadata": {
        "id": "DIM1EUNkkbKi"
      },
      "execution_count": null,
      "outputs": []
    },
    {
      "cell_type": "code",
      "source": [
        "y"
      ],
      "metadata": {
        "id": "32oVbJOTkr1u",
        "colab": {
          "base_uri": "https://localhost:8080/"
        },
        "outputId": "03af28a2-c270-4926-8841-155e16b58c2e"
      },
      "execution_count": null,
      "outputs": [
        {
          "output_type": "execute_result",
          "data": {
            "text/plain": [
              "array([[ -0.9105296 ,  -5.50928249],\n",
              "       [ -5.22222019,  -7.21330022],\n",
              "       [  2.31523227,  10.05464309],\n",
              "       [  7.89373516,  17.9971876 ],\n",
              "       [ -1.02507131,   0.37528274],\n",
              "       [  1.02639113,   0.71403267],\n",
              "       [ -2.02521338, -13.72686209],\n",
              "       [  3.05499723, -13.50109948],\n",
              "       [  5.91780623,  -1.85465694],\n",
              "       [  7.49538488,  12.73529809]])"
            ]
          },
          "metadata": {},
          "execution_count": 136
        }
      ]
    },
    {
      "cell_type": "code",
      "source": [
        "np.max(y, axis=0)"
      ],
      "metadata": {
        "colab": {
          "base_uri": "https://localhost:8080/"
        },
        "id": "L2-3GuXNkubM",
        "outputId": "b8d2e660-206b-435a-ea55-220dbb62e954"
      },
      "execution_count": null,
      "outputs": [
        {
          "output_type": "execute_result",
          "data": {
            "text/plain": [
              "array([ 7.89373516, 17.9971876 ])"
            ]
          },
          "metadata": {},
          "execution_count": 137
        }
      ]
    },
    {
      "cell_type": "code",
      "source": [
        "y = np.argmax(y, axis=0)"
      ],
      "metadata": {
        "id": "4XvZy4P7kxMD"
      },
      "execution_count": null,
      "outputs": []
    },
    {
      "cell_type": "code",
      "source": [
        "Y[0:2]"
      ],
      "metadata": {
        "colab": {
          "base_uri": "https://localhost:8080/"
        },
        "id": "pCAnw3q8k_61",
        "outputId": "c63b54a2-c8e5-4e46-9f28-e2f03707f94f"
      },
      "execution_count": null,
      "outputs": [
        {
          "output_type": "execute_result",
          "data": {
            "text/plain": [
              "array([5, 0])"
            ]
          },
          "metadata": {},
          "execution_count": 139
        }
      ]
    },
    {
      "cell_type": "code",
      "source": [
        "y_ans = Y[0:2]"
      ],
      "metadata": {
        "id": "YfBj_0mvlHAI"
      },
      "execution_count": null,
      "outputs": []
    },
    {
      "cell_type": "code",
      "source": [
        "y_ans"
      ],
      "metadata": {
        "colab": {
          "base_uri": "https://localhost:8080/"
        },
        "id": "lUfVEqDLlT5L",
        "outputId": "daa7f1ab-c82d-48df-b7f1-8305e926099f"
      },
      "execution_count": null,
      "outputs": [
        {
          "output_type": "execute_result",
          "data": {
            "text/plain": [
              "array([5, 0])"
            ]
          },
          "metadata": {},
          "execution_count": 141
        }
      ]
    },
    {
      "cell_type": "code",
      "source": [
        "y"
      ],
      "metadata": {
        "colab": {
          "base_uri": "https://localhost:8080/"
        },
        "id": "8zmHStmjla45",
        "outputId": "4ebf7252-b497-4fcb-9e74-bfef604ab432"
      },
      "execution_count": null,
      "outputs": [
        {
          "output_type": "execute_result",
          "data": {
            "text/plain": [
              "array([3, 3])"
            ]
          },
          "metadata": {},
          "execution_count": 142
        }
      ]
    },
    {
      "cell_type": "code",
      "source": [
        "np.sum((y == y_ans))/len(y)"
      ],
      "metadata": {
        "colab": {
          "base_uri": "https://localhost:8080/"
        },
        "id": "ra5-je6slblR",
        "outputId": "59f97657-f113-480d-d6aa-84fae3356db3"
      },
      "execution_count": null,
      "outputs": [
        {
          "output_type": "execute_result",
          "data": {
            "text/plain": [
              "0.0"
            ]
          },
          "metadata": {},
          "execution_count": 143
        }
      ]
    },
    {
      "cell_type": "code",
      "source": [
        "X.shape"
      ],
      "metadata": {
        "colab": {
          "base_uri": "https://localhost:8080/"
        },
        "id": "LC5DUhmrlikz",
        "outputId": "24fd4a37-376c-465a-d91f-7b92f973c98f"
      },
      "execution_count": null,
      "outputs": [
        {
          "output_type": "execute_result",
          "data": {
            "text/plain": [
              "(60000, 784)"
            ]
          },
          "metadata": {},
          "execution_count": 144
        }
      ]
    },
    {
      "cell_type": "code",
      "source": [
        "X = X.T"
      ],
      "metadata": {
        "id": "gCDDEnP6ltXe"
      },
      "execution_count": null,
      "outputs": []
    },
    {
      "cell_type": "code",
      "source": [
        "X_test = X_test.T"
      ],
      "metadata": {
        "id": "YZGyGTgnPzKS"
      },
      "execution_count": null,
      "outputs": []
    },
    {
      "cell_type": "code",
      "source": [
        "m.shape,X.shape"
      ],
      "metadata": {
        "colab": {
          "base_uri": "https://localhost:8080/"
        },
        "id": "lhVq3XMUlz-1",
        "outputId": "a89b28c5-7f03-49dd-9054-a543c44861ea"
      },
      "execution_count": null,
      "outputs": [
        {
          "output_type": "execute_result",
          "data": {
            "text/plain": [
              "((10, 784), (784, 60000))"
            ]
          },
          "metadata": {},
          "execution_count": 147
        }
      ]
    },
    {
      "cell_type": "code",
      "source": [
        "y = m@X"
      ],
      "metadata": {
        "id": "f2KajRqMl0kn"
      },
      "execution_count": null,
      "outputs": []
    },
    {
      "cell_type": "code",
      "source": [
        "y.shape"
      ],
      "metadata": {
        "colab": {
          "base_uri": "https://localhost:8080/"
        },
        "id": "yQWfA9cel-YF",
        "outputId": "9b52ddc6-1b5c-4a65-b291-37be6d57616d"
      },
      "execution_count": null,
      "outputs": [
        {
          "output_type": "execute_result",
          "data": {
            "text/plain": [
              "(10, 60000)"
            ]
          },
          "metadata": {},
          "execution_count": 149
        }
      ]
    },
    {
      "cell_type": "code",
      "source": [
        "y = np.argmax(y, axis=0)"
      ],
      "metadata": {
        "id": "kHcUiPggmAwF"
      },
      "execution_count": null,
      "outputs": []
    },
    {
      "cell_type": "code",
      "source": [
        "y_ans = Y"
      ],
      "metadata": {
        "id": "xih9q1sRmEND"
      },
      "execution_count": null,
      "outputs": []
    },
    {
      "cell_type": "code",
      "source": [
        "acc = np.sum(y == y_ans)/len(Y)"
      ],
      "metadata": {
        "id": "hcRN60bFmG0J"
      },
      "execution_count": null,
      "outputs": []
    },
    {
      "cell_type": "code",
      "source": [
        "acc"
      ],
      "metadata": {
        "colab": {
          "base_uri": "https://localhost:8080/"
        },
        "id": "JQfnHgHzmIfe",
        "outputId": "8109e502-7730-46f2-b9b5-d0c097623e1c"
      },
      "execution_count": null,
      "outputs": [
        {
          "output_type": "execute_result",
          "data": {
            "text/plain": [
              "0.10045"
            ]
          },
          "metadata": {},
          "execution_count": 153
        }
      ]
    },
    {
      "cell_type": "code",
      "source": [],
      "metadata": {
        "id": "98EQDGLQmZZT"
      },
      "execution_count": null,
      "outputs": []
    },
    {
      "cell_type": "code",
      "source": [
        "m = np.random.standard_normal((10,784))\n",
        "\n",
        "y = m@X\n",
        "\n",
        "y = np.argmax(y, axis=0)\n",
        "\n",
        "acc = np.sum(y == y_ans)/len(Y)\n",
        "\n",
        "print(acc)"
      ],
      "metadata": {
        "colab": {
          "base_uri": "https://localhost:8080/"
        },
        "id": "jHSB1ZCJmc3c",
        "outputId": "d5216c15-b551-41ac-a74b-c945f52499ff"
      },
      "execution_count": null,
      "outputs": [
        {
          "output_type": "stream",
          "name": "stdout",
          "text": [
            "0.08928333333333334\n"
          ]
        }
      ]
    },
    {
      "cell_type": "code",
      "source": [
        "m_best = 0\n",
        "acc_best = 0\n",
        "\n",
        "for i in range(1000):\n",
        "\n",
        "    m = 0.1*np.random.standard_normal((10,784))\n",
        "\n",
        "    y = m@X\n",
        "\n",
        "    y = np.argmax(y, axis=0)\n",
        "\n",
        "    acc = np.sum(y == y_ans)/len(Y)\n",
        "\n",
        "\n",
        "    if acc > acc_best:\n",
        "        print(acc)\n",
        "        m_best = m\n",
        "        acc_best = acc"
      ],
      "metadata": {
        "id": "j5OMhhdzmnib"
      },
      "execution_count": null,
      "outputs": []
    },
    {
      "cell_type": "code",
      "source": [
        "def GPU(data):\n",
        "    return torch.tensor(data, requires_grad=True, dtype=torch.float, device=torch.device('cuda'))\n",
        "\n",
        "def GPU_data(data):\n",
        "    return torch.tensor(data, requires_grad=False, dtype=torch.float, device=torch.device('cuda'))"
      ],
      "metadata": {
        "id": "Z5ijFhoNUwiX"
      },
      "execution_count": null,
      "outputs": []
    },
    {
      "cell_type": "code",
      "source": [
        "X = GPU_data(X)\n",
        "Y = GPU_data(Y)\n",
        "X_test = GPU_data(X_test)\n",
        "Y_test = GPU_data(Y_test)"
      ],
      "metadata": {
        "id": "albma-mgUzZ_"
      },
      "execution_count": null,
      "outputs": []
    },
    {
      "cell_type": "code",
      "source": [
        "# def scale(img):\n",
        "#     img_min = torch.min(img)\n",
        "#     img_max = torch.max(img)\n",
        "#     scaled = (img - img_min) / (img_max - img_min) * 1.0\n",
        "#     return scaled"
      ],
      "metadata": {
        "id": "p6RdNfK_Tbbt"
      },
      "execution_count": null,
      "outputs": []
    },
    {
      "cell_type": "code",
      "source": [
        "# X = scale(X)\n",
        "# X_test = scale(X_test)"
      ],
      "metadata": {
        "id": "wra63qB6bMD1"
      },
      "execution_count": null,
      "outputs": []
    },
    {
      "cell_type": "code",
      "source": [
        "m_best = 0\n",
        "acc_best = 0\n",
        "\n",
        "for i in range(100000):\n",
        "\n",
        "    step = 0.0000000001\n",
        "\n",
        "    m_random = GPU_data(np.random.randn(10,784))\n",
        "\n",
        "    m = m_best  + step*m_random\n",
        "\n",
        "    y = m@X\n",
        "\n",
        "    y = torch.argmax(y, axis=0)\n",
        "\n",
        "    acc = ((y == Y)).sum()/len(Y)\n",
        "\n",
        "\n",
        "    if acc > acc_best:\n",
        "        print(acc.item())\n",
        "        m_best = m\n",
        "        acc_best = acc"
      ],
      "metadata": {
        "id": "UljqXpWHmutW",
        "colab": {
          "base_uri": "https://localhost:8080/"
        },
        "outputId": "f7022409-94ec-489d-8332-123f71134240"
      },
      "execution_count": null,
      "outputs": [
        {
          "output_type": "stream",
          "name": "stdout",
          "text": [
            "0.10636666417121887\n",
            "0.15951666235923767\n",
            "0.16574999690055847\n",
            "0.16588333249092102\n",
            "0.18708333373069763\n",
            "0.19968333840370178\n",
            "0.20621666312217712\n",
            "0.2089499980211258\n",
            "0.22374999523162842\n",
            "0.22633333504199982\n",
            "0.23253333568572998\n",
            "0.2331833392381668\n",
            "0.2345166653394699\n",
            "0.24006666243076324\n",
            "0.24593333899974823\n",
            "0.2551499903202057\n",
            "0.25868332386016846\n",
            "0.2610166668891907\n",
            "0.2728666663169861\n",
            "0.28191667795181274\n",
            "0.29021668434143066\n",
            "0.3025500178337097\n",
            "0.3033166825771332\n",
            "0.30709999799728394\n",
            "0.3097666800022125\n",
            "0.3204500079154968\n",
            "0.32481667399406433\n",
            "0.3259333372116089\n",
            "0.33756667375564575\n",
            "0.34983333945274353\n",
            "0.35304999351501465\n",
            "0.3530833423137665\n",
            "0.35350000858306885\n",
            "0.35553333163261414\n",
            "0.3691999912261963\n",
            "0.37023332715034485\n",
            "0.3710666596889496\n",
            "0.3730500042438507\n",
            "0.3778333365917206\n",
            "0.3779500126838684\n",
            "0.3799000084400177\n",
            "0.3839000165462494\n",
            "0.38545000553131104\n",
            "0.3956499993801117\n",
            "0.3960166573524475\n",
            "0.3963833451271057\n",
            "0.39928334951400757\n",
            "0.4020833373069763\n",
            "0.4052833318710327\n",
            "0.41431668400764465\n",
            "0.41831666231155396\n",
            "0.4202333390712738\n",
            "0.421916663646698\n",
            "0.42215001583099365\n",
            "0.4251500070095062\n",
            "0.4279000163078308\n",
            "0.4301333427429199\n",
            "0.4387499988079071\n",
            "0.4401000142097473\n",
            "0.4494166672229767\n",
            "0.45358332991600037\n",
            "0.4564833343029022\n",
            "0.4582333266735077\n",
            "0.460099995136261\n",
            "0.4614500105381012\n",
            "0.4657333493232727\n",
            "0.4659999907016754\n",
            "0.47138333320617676\n",
            "0.47405001521110535\n",
            "0.474700003862381\n",
            "0.47911667823791504\n",
            "0.48073333501815796\n",
            "0.48678332567214966\n",
            "0.4886833429336548\n",
            "0.4897833466529846\n",
            "0.4902166724205017\n",
            "0.4909333288669586\n",
            "0.4921833276748657\n",
            "0.49355000257492065\n",
            "0.4946500062942505\n",
            "0.4948166608810425\n",
            "0.4975333511829376\n",
            "0.49845001101493835\n",
            "0.5009833574295044\n",
            "0.5023833513259888\n",
            "0.5035499930381775\n",
            "0.50368332862854\n",
            "0.5048666596412659\n",
            "0.5065500140190125\n",
            "0.5067333579063416\n",
            "0.5074666738510132\n",
            "0.5077000260353088\n",
            "0.5096333622932434\n",
            "0.5102999806404114\n",
            "0.5104666948318481\n",
            "0.5114499926567078\n",
            "0.512233316898346\n",
            "0.5127833485603333\n",
            "0.5136333107948303\n",
            "0.5152666568756104\n",
            "0.51541668176651\n",
            "0.5165166854858398\n",
            "0.5167166590690613\n",
            "0.5192166566848755\n",
            "0.5193166732788086\n",
            "0.5204166769981384\n",
            "0.5206000208854675\n",
            "0.5239499807357788\n",
            "0.524066686630249\n",
            "0.5243499875068665\n",
            "0.5248000025749207\n",
            "0.5268999934196472\n",
            "0.5272666811943054\n",
            "0.5273000001907349\n",
            "0.5275000333786011\n",
            "0.5279499888420105\n",
            "0.528083324432373\n",
            "0.5289166569709778\n",
            "0.5295833349227905\n",
            "0.5296666622161865\n",
            "0.5297999978065491\n",
            "0.5309000015258789\n",
            "0.5321166515350342\n",
            "0.5329999923706055\n",
            "0.5340999960899353\n",
            "0.5357666611671448\n",
            "0.536050021648407\n",
            "0.5368166565895081\n",
            "0.5371833443641663\n",
            "0.5373499989509583\n",
            "0.5387833118438721\n",
            "0.5397999882698059\n",
            "0.5400500297546387\n",
            "0.5400833487510681\n",
            "0.5402833223342896\n",
            "0.5411333441734314\n",
            "0.5414333343505859\n",
            "0.5418500304222107\n",
            "0.5434166789054871\n",
            "0.543583333492279\n",
            "0.5443833470344543\n",
            "0.5464333295822144\n",
            "0.5465666651725769\n",
            "0.5476666688919067\n",
            "0.5501000285148621\n",
            "0.5510666966438293\n",
            "0.5514833331108093\n",
            "0.5521000027656555\n",
            "0.5522333383560181\n",
            "0.5530000329017639\n",
            "0.5533666610717773\n",
            "0.5541166663169861\n",
            "0.5546166896820068\n",
            "0.5562833547592163\n",
            "0.5567666888237\n",
            "0.5568333268165588\n",
            "0.5569166541099548\n",
            "0.5577166676521301\n",
            "0.5586666464805603\n",
            "0.5586833357810974\n",
            "0.5600333213806152\n",
            "0.5604166984558105\n",
            "0.5606833100318909\n",
            "0.5615833401679993\n",
            "0.5618500113487244\n",
            "0.5623666644096375\n",
            "0.5630666613578796\n",
            "0.5641999840736389\n",
            "0.564300000667572\n",
            "0.5652333498001099\n",
            "0.565416693687439\n",
            "0.5660499930381775\n",
            "0.5663000345230103\n",
            "0.5669666528701782\n",
            "0.5673999786376953\n",
            "0.5674999952316284\n",
            "0.5679333209991455\n",
            "0.5683000087738037\n",
            "0.5683833360671997\n",
            "0.5687500238418579\n",
            "0.5693666934967041\n",
            "0.5702333450317383\n",
            "0.5710499882698059\n",
            "0.572533369064331\n",
            "0.5730500221252441\n",
            "0.5731666684150696\n",
            "0.5740333199501038\n",
            "0.5747833251953125\n",
            "0.5753999948501587\n",
            "0.5757333636283875\n",
            "0.5758166909217834\n",
            "0.5765666961669922\n",
            "0.5770833492279053\n",
            "0.5777833461761475\n",
            "0.578000009059906\n",
            "0.5791833400726318\n",
            "0.5795833468437195\n",
            "0.5796499848365784\n",
            "0.5802333354949951\n",
            "0.5803000330924988\n",
            "0.5809500217437744\n",
            "0.5814333558082581\n",
            "0.5815333127975464\n",
            "0.5815500020980835\n",
            "0.5818166732788086\n",
            "0.5821333527565002\n",
            "0.5829166769981384\n",
            "0.5837666988372803\n",
            "0.5838666558265686\n",
            "0.5844166874885559\n",
            "0.5857499837875366\n",
            "0.5864666700363159\n",
            "0.5875999927520752\n",
            "0.5879999995231628\n",
            "0.5883166790008545\n",
            "0.5887666940689087\n",
            "0.5897166728973389\n",
            "0.5902833342552185\n",
            "0.5905666947364807\n",
            "0.5912500023841858\n",
            "0.5918499827384949\n",
            "0.5923166871070862\n",
            "0.5924333333969116\n",
            "0.5926166772842407\n",
            "0.5931833386421204\n",
            "0.5942666530609131\n",
            "0.5960833430290222\n",
            "0.5980333685874939\n",
            "0.5991166830062866\n",
            "0.600683331489563\n",
            "0.6008833646774292\n",
            "0.6038833260536194\n",
            "0.6045500040054321\n",
            "0.6057166457176208\n",
            "0.6079000234603882\n",
            "0.6080999970436096\n",
            "0.6081833243370056\n",
            "0.6088166832923889\n",
            "0.6100666522979736\n",
            "0.6102166771888733\n",
            "0.6109166741371155\n",
            "0.6132500171661377\n",
            "0.6158000230789185\n",
            "0.6166833639144897\n",
            "0.6169000267982483\n",
            "0.6183333396911621\n",
            "0.6194833517074585\n",
            "0.6199833154678345\n",
            "0.6209666728973389\n",
            "0.6211333274841309\n",
            "0.6216166615486145\n",
            "0.6222500205039978\n",
            "0.6238666772842407\n",
            "0.6245333552360535\n",
            "0.6266166567802429\n",
            "0.6285666823387146\n",
            "0.6294833421707153\n",
            "0.630299985408783\n",
            "0.6308000087738037\n",
            "0.6326666474342346\n",
            "0.6331999897956848\n",
            "0.6349499821662903\n",
            "0.6358166933059692\n",
            "0.6373166441917419\n",
            "0.6381833553314209\n",
            "0.6389166712760925\n",
            "0.640666663646698\n",
            "0.6424000263214111\n",
            "0.6434333324432373\n",
            "0.6434666514396667\n",
            "0.6439499855041504\n",
            "0.6448833346366882\n",
            "0.6450666785240173\n",
            "0.6467166543006897\n",
            "0.6470333337783813\n",
            "0.6478166580200195\n",
            "0.6486166715621948\n",
            "0.6492500305175781\n",
            "0.6498000025749207\n",
            "0.6514999866485596\n",
            "0.6515499949455261\n",
            "0.6528333425521851\n",
            "0.6547333598136902\n",
            "0.6550999879837036\n",
            "0.6558833122253418\n",
            "0.6560166478157043\n",
            "0.6560500264167786\n",
            "0.6573666930198669\n",
            "0.6586499810218811\n",
            "0.6600000262260437\n",
            "0.6631333231925964\n",
            "0.6642333269119263\n",
            "0.664733350276947\n",
            "0.6650000214576721\n",
            "0.6666499972343445\n",
            "0.6674333214759827\n",
            "0.6692833304405212\n",
            "0.6696333289146423\n",
            "0.669950008392334\n",
            "0.6701333522796631\n",
            "0.6705833673477173\n",
            "0.6710000038146973\n",
            "0.6712999939918518\n",
            "0.671916663646698\n",
            "0.6726666688919067\n",
            "0.6728000044822693\n",
            "0.6742333173751831\n",
            "0.6749666929244995\n",
            "0.6757500171661377\n",
            "0.676883339881897\n",
            "0.6772666573524475\n",
            "0.6773333549499512\n",
            "0.677483320236206\n",
            "0.6784499883651733\n",
            "0.6791666746139526\n",
            "0.6809333562850952\n",
            "0.6825000047683716\n",
            "0.6837999820709229\n",
            "0.6854166984558105\n",
            "0.6859666705131531\n",
            "0.6866166591644287\n",
            "0.6876500248908997\n",
            "0.6880833506584167\n",
            "0.68913334608078\n",
            "0.6904833316802979\n",
            "0.6912166476249695\n",
            "0.6920166611671448\n",
            "0.6930833458900452\n",
            "0.6941166520118713\n",
            "0.6949666738510132\n",
            "0.6952333450317383\n",
            "0.6956333518028259\n",
            "0.6960333585739136\n",
            "0.6970333456993103\n",
            "0.6973666548728943\n",
            "0.6979166865348816\n",
            "0.6996666789054871\n",
            "0.7001000046730042\n",
            "0.7003166675567627\n",
            "0.7003833651542664\n",
            "0.7005167007446289\n",
            "0.7015166878700256\n",
            "0.7019166946411133\n",
            "0.7021833658218384\n",
            "0.7034500241279602\n",
            "0.7035333514213562\n",
            "0.7041500210762024\n",
            "0.7048666477203369\n",
            "0.7051166892051697\n",
            "0.7056833505630493\n",
            "0.705916702747345\n",
            "0.7064333558082581\n",
            "0.7064999938011169\n",
            "0.7068333625793457\n",
            "0.7071666717529297\n",
            "0.7076500058174133\n",
            "0.708050012588501\n",
            "0.7081833481788635\n",
            "0.7082499861717224\n",
            "0.7097166776657104\n",
            "0.7103833556175232\n",
            "0.7116333246231079\n",
            "0.7130166888237\n",
            "0.7134667038917542\n",
            "0.7134833335876465\n",
            "0.7137333154678345\n",
            "0.7139000296592712\n",
            "0.7143666744232178\n",
            "0.7143999934196472\n",
            "0.7144166827201843\n",
            "0.714983344078064\n",
            "0.7150166630744934\n",
            "0.716450035572052\n",
            "0.7170000076293945\n",
            "0.7171666622161865\n",
            "0.7172833681106567\n",
            "0.7178166508674622\n",
            "0.7178333401679993\n",
            "0.7194166779518127\n",
            "0.7194333672523499\n",
            "0.7203500270843506\n",
            "0.7204833626747131\n",
            "0.7221166491508484\n",
            "0.7222000360488892\n",
            "0.7226166725158691\n",
            "0.7226666808128357\n",
            "0.7233499884605408\n",
            "0.7236833572387695\n",
            "0.7238333225250244\n",
            "0.7242000102996826\n",
            "0.7253167033195496\n",
            "0.7255833148956299\n",
            "0.7275999784469604\n",
            "0.7277833223342896\n",
            "0.7283833622932434\n",
            "0.7287333607673645\n",
            "0.7291333675384521\n",
            "0.7294166684150696\n",
            "0.7294833660125732\n",
            "0.7296167016029358\n",
            "0.7311333417892456\n",
            "0.7315333485603333\n",
            "0.7325000166893005\n",
            "0.7329833507537842\n",
            "0.7332666516304016\n",
            "0.7333499789237976\n",
            "0.7337666749954224\n",
            "0.733916699886322\n",
            "0.7343500256538391\n",
            "0.734666645526886\n",
            "0.7348999977111816\n",
            "0.7351499795913696\n",
            "0.7363166809082031\n",
            "0.7366166710853577\n",
            "0.7367333173751831\n",
            "0.7373166680335999\n",
            "0.737500011920929\n",
            "0.7377833127975464\n",
            "0.7380000352859497\n",
            "0.7384999990463257\n",
            "0.7386000156402588\n",
            "0.7386666536331177\n",
            "0.7395166754722595\n",
            "0.7397000193595886\n",
            "0.7403500080108643\n",
            "0.7404000163078308\n",
            "0.7407333254814148\n",
            "0.7411333322525024\n",
            "0.7412499785423279\n",
            "0.7421333193778992\n",
            "0.7422500252723694\n",
            "0.7428666949272156\n",
            "0.742983341217041\n",
            "0.7432500123977661\n",
            "0.7435333132743835\n",
            "0.7436500191688538\n",
            "0.7437333464622498\n",
            "0.7440166473388672\n",
            "0.7442833185195923\n",
            "0.7443333268165588\n",
            "0.7450166940689087\n",
            "0.7451500296592712\n",
            "0.746649980545044\n",
            "0.7470499873161316\n",
            "0.7470666766166687\n",
            "0.7472500205039978\n",
            "0.7482666969299316\n",
            "0.7484999895095825\n",
            "0.7485666871070862\n",
            "0.7493500113487244\n",
            "0.7494333386421204\n",
            "0.7502833604812622\n",
            "0.7502999901771545\n",
            "0.7509833574295044\n",
            "0.7512666583061218\n",
            "0.751550018787384\n",
            "0.7519000172615051\n",
            "0.7524166703224182\n",
            "0.7525166869163513\n",
            "0.7527999877929688\n",
            "0.7536333203315735\n",
            "0.75368332862854\n",
            "0.7538166642189026\n",
            "0.7539666891098022\n",
            "0.7541666626930237\n",
            "0.7545666694641113\n",
            "0.7545833587646484\n",
            "0.754800021648407\n",
            "0.7548500299453735\n",
            "0.7549166679382324\n",
            "0.7550666928291321\n",
            "0.7550833225250244\n",
            "0.7558166980743408\n",
            "0.7563333511352539\n",
            "0.7566166520118713\n",
            "0.7572166919708252\n",
            "0.7573166489601135\n",
            "0.7575166821479797\n",
            "0.7577333450317383\n",
            "0.7578999996185303\n",
            "0.7580833435058594\n",
            "0.7584999799728394\n",
            "0.758650004863739\n",
            "0.7588666677474976\n",
            "0.7589499950408936\n",
            "0.7590000033378601\n",
            "0.7590333223342896\n",
            "0.7592833638191223\n",
            "0.7593333125114441\n",
            "0.7596166729927063\n",
            "0.7598333358764648\n",
            "0.7599499821662903\n",
            "0.7601667046546936\n",
            "0.760366678237915\n",
            "0.7609500288963318\n",
            "0.7613500356674194\n",
            "0.7623500227928162\n",
            "0.7626166939735413\n",
            "0.7627166509628296\n",
            "0.7627333402633667\n",
            "0.7631166577339172\n",
            "0.7631500363349915\n",
            "0.7633000016212463\n",
            "0.7634666562080383\n",
            "0.7637500166893005\n",
            "0.7639833688735962\n",
            "0.7640666961669922\n",
            "0.7641833424568176\n",
            "0.7646833658218384\n",
            "0.7647666931152344\n",
            "0.7650499939918518\n",
            "0.7656000256538391\n",
            "0.7662833333015442\n",
            "0.7663500308990479\n",
            "0.7665166854858398\n",
            "0.7666666507720947\n",
            "0.7667833566665649\n",
            "0.7672500014305115\n",
            "0.7673500180244446\n",
            "0.7673666477203369\n",
            "0.7674166560173035\n",
            "0.7675666809082031\n",
            "0.7678333520889282\n",
            "0.7678833603858948\n",
            "0.7681166529655457\n",
            "0.7683500051498413\n",
            "0.7686833143234253\n",
            "0.7687333226203918\n",
            "0.768750011920929\n",
            "0.7687667012214661\n",
            "0.768833339214325\n",
            "0.7688666582107544\n",
            "0.7691166996955872\n",
            "0.7692500352859497\n",
            "0.7695500254631042\n",
            "0.7697833180427551\n",
            "0.7699333429336548\n",
            "0.7699833512306213\n",
            "0.770716667175293\n",
            "0.770799994468689\n",
            "0.7710000276565552\n",
            "0.7711833715438843\n",
            "0.7714000344276428\n",
            "0.7716833353042603\n",
            "0.7717500329017639\n",
            "0.7717833518981934\n",
            "0.7718999981880188\n",
            "0.7722166776657104\n",
            "0.7723333239555359\n",
            "0.772599995136261\n",
            "0.7728166580200195\n",
            "0.7729666829109192\n",
            "0.7730000019073486\n",
            "0.7730833292007446\n",
            "0.7731333374977112\n",
            "0.7732999920845032\n",
            "0.7733333706855774\n",
            "0.7733833193778992\n",
            "0.7734666466712952\n",
            "0.7737166881561279\n",
            "0.7738666534423828\n",
            "0.773983359336853\n",
            "0.7740833163261414\n",
            "0.774399995803833\n",
            "0.7745333313941956\n",
            "0.7746166586875916\n",
            "0.7748000025749207\n",
            "0.7748667001724243\n",
            "0.7749833464622498\n",
            "0.7750000357627869\n",
            "0.7750666737556458\n",
            "0.7751833200454712\n",
            "0.7752166986465454\n",
            "0.775700032711029\n",
            "0.7757333517074585\n",
            "0.7758333683013916\n",
            "0.776199996471405\n",
            "0.7763167023658752\n",
            "0.7764666676521301\n",
            "0.7767166495323181\n",
            "0.7773500084877014\n",
            "0.7776166796684265\n",
            "0.7777500152587891\n",
            "0.777916669845581\n",
            "0.7779833674430847\n",
            "0.7784333229064941\n",
            "0.7784500122070312\n",
            "0.7784667015075684\n",
            "0.7785333395004272\n",
            "0.7786000370979309\n",
            "0.7787833213806152\n",
            "0.7788333296775818\n",
            "0.7790166735649109\n",
            "0.7793166637420654\n",
            "0.779449999332428\n",
            "0.7795166969299316\n",
            "0.7795666456222534\n",
            "0.7797333598136902\n",
            "0.7797499895095825\n",
            "0.7797833681106567\n",
            "0.7798833250999451\n",
            "0.7799666523933411\n",
            "0.7800166606903076\n",
            "0.7801166772842407\n",
            "0.7801833152770996\n",
            "0.7802333235740662\n",
            "0.7803666591644287\n",
            "0.7804166674613953\n",
            "0.7804666757583618\n",
            "0.7804833650588989\n",
            "0.7805333137512207\n",
            "0.7805833220481873\n",
            "0.7806167006492615\n",
            "0.7809666991233826\n",
            "0.7810500264167786\n",
            "0.781083345413208\n",
            "0.7811999917030334\n",
            "0.7812166810035706\n",
            "0.7813166975975037\n",
            "0.7814833521842957\n",
            "0.7817333340644836\n",
            "0.7818333506584167\n",
            "0.7819333672523499\n",
            "0.7820500135421753\n",
            "0.7821166515350342\n",
            "0.7822333574295044\n",
            "0.7823166847229004\n",
            "0.7823833227157593\n",
            "0.7825000286102295\n",
            "0.7826666831970215\n",
            "0.782716691493988\n",
            "0.7828666567802429\n",
            "0.7831000089645386\n",
            "0.7831833362579346\n",
            "0.783216655254364\n",
            "0.7833166718482971\n",
            "0.7835000157356262\n",
            "0.7836166620254517\n",
            "0.7837333679199219\n",
            "0.7839833498001099\n",
            "0.7839999794960022\n",
            "0.7842333316802979\n",
            "0.7843666672706604\n",
            "0.7843833565711975\n",
            "0.784416675567627\n",
            "0.7845333218574524\n",
            "0.7845500111579895\n",
            "0.7848166823387146\n",
            "0.7849666476249695\n",
            "0.7849833369255066\n",
            "0.7850666642189026\n",
            "0.785099983215332\n",
            "0.7852166891098022\n",
            "0.7852500081062317\n",
            "0.7852666974067688\n",
            "0.7853666543960571\n",
            "0.7854000329971313\n",
            "0.7854833602905273\n",
            "0.7857166528701782\n",
            "0.7857500314712524\n",
            "0.7858999967575073\n",
            "0.7859166860580444\n",
            "0.7859333157539368\n",
            "0.7859500050544739\n",
            "0.7859833240509033\n",
            "0.7861166596412659\n",
            "0.7861500382423401\n",
            "0.7861833572387695\n",
            "0.7863667011260986\n",
            "0.786383330821991\n",
            "0.7864500284194946\n",
            "0.7865166664123535\n",
            "0.7867333292961121\n",
            "0.7868333458900452\n",
            "0.7869166731834412\n",
            "0.7869333624839783\n",
            "0.7869833707809448\n",
            "0.7871500253677368\n",
            "0.7872000336647034\n",
            "0.7872499823570251\n",
            "0.7875000238418579\n",
            "0.7875500321388245\n",
            "0.7877500057220459\n",
            "0.787766695022583\n",
            "0.7877833247184753\n",
            "0.7878333330154419\n",
            "0.7881500124931335\n",
            "0.7881667017936707\n",
            "0.7885500192642212\n",
            "0.7889500260353088\n",
            "0.7889833450317383\n",
            "0.7890999913215637\n",
            "0.7891166806221008\n",
            "0.7894166707992554\n",
            "0.7894333600997925\n",
            "0.7894499897956848\n",
            "0.7897000312805176\n",
            "0.790066659450531\n",
            "0.7903500199317932\n",
            "0.7904999852180481\n",
            "0.7906000018119812\n",
            "0.7906500101089478\n",
            "0.7908000349998474\n",
            "0.7908166646957397\n",
            "0.7908666729927063\n",
            "0.7909500002861023\n",
            "0.7910833358764648\n",
            "0.791183352470398\n",
            "0.791533350944519\n",
            "0.7916833162307739\n",
            "0.7917500138282776\n",
            "0.791866660118103\n",
            "0.7919333577156067\n",
            "0.7921000123023987\n",
            "0.7922166585922241\n",
            "0.7922333478927612\n",
            "0.7923833131790161\n",
            "0.7925166487693787\n",
            "0.7925500273704529\n",
            "0.7925666570663452\n",
            "0.7926666736602783\n",
            "0.7926833629608154\n",
            "0.792816698551178\n",
            "0.7928500175476074\n",
            "0.7929333448410034\n",
            "0.7929999828338623\n",
            "0.7932500243186951\n",
            "0.7933499813079834\n",
            "0.7933833599090576\n",
            "0.7935000061988831\n",
            "0.793666660785675\n",
            "0.7937333583831787\n",
            "0.7937666773796082\n",
            "0.7939333319664001\n",
            "0.7940000295639038\n",
            "0.7940333485603333\n",
            "0.7940833568572998\n",
            "0.7941833138465881\n",
            "0.7942166924476624\n",
            "0.7942500114440918\n",
            "0.7943500280380249\n",
            "0.7944499850273132\n"
          ]
        }
      ]
    },
    {
      "cell_type": "code",
      "source": [],
      "metadata": {
        "id": "20Vq4C_CSvng"
      },
      "execution_count": null,
      "outputs": []
    },
    {
      "cell_type": "code",
      "source": [
        "M = GPU_data(np.random.random((100,10,784)))\n",
        "M.shape,X.shape\n",
        "(M@X).shape\n",
        "(torch.argmax((M@X), axis=1) == Y).shape\n",
        "Y.shape\n",
        "y = torch.argmax((M@X), axis=1)\n",
        "score = ((y == Y).sum(1)/len(Y))\n",
        "s = torch.argsort(score,descending=True)\n",
        "score[s]"
      ],
      "metadata": {
        "id": "od7E6ft6zWRG",
        "colab": {
          "base_uri": "https://localhost:8080/"
        },
        "outputId": "ea32ca46-6c92-4dee-ae98-f861315994bd"
      },
      "execution_count": null,
      "outputs": [
        {
          "output_type": "execute_result",
          "data": {
            "text/plain": [
              "tensor([0.2088, 0.1990, 0.1838, 0.1740, 0.1694, 0.1585, 0.1551, 0.1472, 0.1465,\n",
              "        0.1442, 0.1424, 0.1374, 0.1342, 0.1328, 0.1320, 0.1316, 0.1311, 0.1298,\n",
              "        0.1297, 0.1285, 0.1262, 0.1256, 0.1215, 0.1212, 0.1182, 0.1178, 0.1165,\n",
              "        0.1116, 0.1092, 0.1090, 0.1066, 0.1057, 0.1055, 0.1048, 0.1046, 0.1037,\n",
              "        0.1027, 0.1022, 0.1010, 0.0999, 0.0988, 0.0976, 0.0952, 0.0948, 0.0946,\n",
              "        0.0945, 0.0945, 0.0936, 0.0932, 0.0932, 0.0918, 0.0918, 0.0916, 0.0915,\n",
              "        0.0910, 0.0909, 0.0904, 0.0897, 0.0895, 0.0895, 0.0893, 0.0892, 0.0885,\n",
              "        0.0882, 0.0880, 0.0853, 0.0835, 0.0834, 0.0833, 0.0826, 0.0816, 0.0808,\n",
              "        0.0803, 0.0802, 0.0802, 0.0802, 0.0789, 0.0783, 0.0773, 0.0768, 0.0754,\n",
              "        0.0744, 0.0731, 0.0684, 0.0682, 0.0677, 0.0672, 0.0661, 0.0656, 0.0610,\n",
              "        0.0605, 0.0589, 0.0586, 0.0567, 0.0566, 0.0542, 0.0529, 0.0482, 0.0479,\n",
              "        0.0448], device='cuda:0')"
            ]
          },
          "metadata": {},
          "execution_count": 161
        }
      ]
    },
    {
      "cell_type": "code",
      "source": [],
      "metadata": {
        "id": "KdOFfVvtJbrG"
      },
      "execution_count": null,
      "outputs": []
    },
    {
      "cell_type": "code",
      "source": [
        "N = 100\n",
        "M = GPU_data(np.random.rand(N,10,784))\n",
        "\n",
        "m_best = 0\n",
        "acc_best = 0\n",
        "\n",
        "step = 0.00000000001\n",
        "\n",
        "for i in range(1000000):\n",
        "\n",
        "    y = torch.argmax((M@X), axis=1)\n",
        "    score = ((y == Y).sum(1)/len(Y))\n",
        "    s = torch.argsort(score,descending=True)\n",
        "    M = M[s]\n",
        "\n",
        "    M[N//2:] = 0\n",
        "    M[1:N//2] = M[0]\n",
        "    M[1:] += step*GPU_data(np.random.rand(N-1,10,784))\n",
        "\n",
        "\n",
        "    acc = score[s][0].item()\n",
        "\n",
        "    if acc > acc_best:\n",
        "\n",
        "        m_best = M[0]\n",
        "        acc_best = acc\n",
        "\n",
        "        print(i,acc)"
      ],
      "metadata": {
        "id": "2aoKblkrqTX0"
      },
      "execution_count": null,
      "outputs": []
    },
    {
      "cell_type": "code",
      "source": [
        "y_test = torch.argmax((M@X_test), axis=1)\n",
        "score = ((y_test == Y_test).sum(1)/len(Y_test))\n",
        "s = torch.argsort(score,descending=True)\n",
        "acc_test = score[s][0].item()"
      ],
      "metadata": {
        "id": "b-ZbXHH_gMth"
      },
      "execution_count": null,
      "outputs": []
    },
    {
      "cell_type": "code",
      "source": [
        "X_test.shape"
      ],
      "metadata": {
        "colab": {
          "base_uri": "https://localhost:8080/"
        },
        "id": "nozKM2FpnpZH",
        "outputId": "ef0b3dfc-40e8-4522-e406-9645e83a262f"
      },
      "execution_count": null,
      "outputs": [
        {
          "output_type": "execute_result",
          "data": {
            "text/plain": [
              "torch.Size([784, 10000])"
            ]
          },
          "metadata": {},
          "execution_count": 164
        }
      ]
    },
    {
      "cell_type": "code",
      "source": [
        "acc_test"
      ],
      "metadata": {
        "id": "01fixDvfPG54",
        "colab": {
          "base_uri": "https://localhost:8080/"
        },
        "outputId": "a738af90-814a-419e-e28f-fe435cbe69e1"
      },
      "execution_count": null,
      "outputs": [
        {
          "output_type": "execute_result",
          "data": {
            "text/plain": [
              "0.7858999967575073"
            ]
          },
          "metadata": {},
          "execution_count": 165
        }
      ]
    },
    {
      "cell_type": "code",
      "source": [
        "y_test[0]"
      ],
      "metadata": {
        "colab": {
          "base_uri": "https://localhost:8080/"
        },
        "id": "eNi2VS0BlR6r",
        "outputId": "404f4097-c87e-4320-fbd8-44065ae7b210"
      },
      "execution_count": null,
      "outputs": [
        {
          "output_type": "execute_result",
          "data": {
            "text/plain": [
              "tensor([7, 2, 1,  ..., 4, 8, 6], device='cuda:0')"
            ]
          },
          "metadata": {},
          "execution_count": 166
        }
      ]
    },
    {
      "cell_type": "code",
      "source": [
        "Y_test"
      ],
      "metadata": {
        "colab": {
          "base_uri": "https://localhost:8080/"
        },
        "id": "Cd3vYXcpmVrr",
        "outputId": "b4624c63-6e31-4f40-d1e7-d3324de19707"
      },
      "execution_count": null,
      "outputs": [
        {
          "output_type": "execute_result",
          "data": {
            "text/plain": [
              "tensor([7., 2., 1.,  ..., 4., 5., 6.], device='cuda:0')"
            ]
          },
          "metadata": {},
          "execution_count": 167
        }
      ]
    },
    {
      "cell_type": "code",
      "source": [
        "for i in range(10):\n",
        "\n",
        "    guess = y_test[0,i].item()\n",
        "    answer = int(Y_test[i])\n",
        "\n",
        "    title = f\"Guess: {guess}   ---   Actual: {answer}\"\n",
        "    plot(X_test[:,i].reshape(28,28),title)\n"
      ],
      "metadata": {
        "id": "05_GcsnvmVue"
      },
      "execution_count": null,
      "outputs": []
    },
    {
      "cell_type": "code",
      "source": [],
      "metadata": {
        "id": "M7ZDXwMtmVxY"
      },
      "execution_count": null,
      "outputs": []
    },
    {
      "cell_type": "code",
      "source": [],
      "metadata": {
        "id": "nzhbfAtWp5mD"
      },
      "execution_count": null,
      "outputs": []
    },
    {
      "cell_type": "code",
      "source": [
        "import numpy as np\n",
        "import matplotlib.pyplot as plt\n",
        "import base64\n",
        "from io import BytesIO\n",
        "\n",
        "def plot(x, title=None):\n",
        "    if type(x) == torch.Tensor:\n",
        "        x = x.cpu().detach().numpy()\n",
        "\n",
        "    fig, ax = plt.subplots()\n",
        "    im = ax.imshow(x, cmap='gray')\n",
        "    ax.axis('off')\n",
        "    fig.set_size_inches(7, 7)\n",
        "    plt.title(title)\n",
        "\n",
        "# Convert the matplotlib plot to a base64 encoded image\n",
        "def plot_to_base64():\n",
        "    buf = BytesIO()\n",
        "    plt.savefig(buf, format=\"png\", bbox_inches='tight')\n",
        "    plt.close()\n",
        "    return base64.b64encode(buf.getvalue()).decode('utf-8')\n",
        "\n",
        "# Generate the HTML content\n",
        "html_content = \"<html><body>\"\n",
        "\n",
        "for i in range(10):\n",
        "\n",
        "    guess = y_test[0, i].item()\n",
        "    answer = int(Y_test[i])\n",
        "\n",
        "    title = f\"Guess: {guess}   ---   Actual: {answer}\"\n",
        "    plot(X_test[:,i].reshape(28,28),title)\n",
        "    img_b64 = plot_to_base64()\n",
        "\n",
        "\n",
        "    html_content += f\"<h3>{title}</h3>\"\n",
        "    html_content += f'<img src=\"data:image/png;base64,{img_b64}\" alt=\"{title}\" />'\n",
        "\n",
        "\n",
        "html_content += \"</body></html>\"\n",
        "\n",
        "\n",
        "# Write the HTML content to a file\n",
        "print(html_content, file=open(\"output.html\",'w'))"
      ],
      "metadata": {
        "id": "QnyY0JVXp5oo"
      },
      "execution_count": null,
      "outputs": []
    },
    {
      "cell_type": "code",
      "source": [
        "import IPython\n",
        "IPython.display.HTML(filename='output.html')"
      ],
      "metadata": {
        "colab": {
          "base_uri": "https://localhost:8080/",
          "height": 1000
        },
        "id": "KuiLr_Kqp6NO",
        "outputId": "b90cdb00-2bc2-46d5-fc9c-76db975f8909"
      },
      "execution_count": null,
      "outputs": [
        {
          "output_type": "execute_result",
          "data": {
            "text/plain": [
              "<IPython.core.display.HTML object>"
            ],
            "text/html": [
              "<html><head></head><body><h3>Guess: 7   ---   Actual: 7</h3><img src=\"data:image/png;base64,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\" alt=\"Guess: 7   ---   Actual: 7\" /><h3>Guess: 2   ---   Actual: 2</h3><img src=\"data:image/png;base64,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\" alt=\"Guess: 2   ---   Actual: 2\" /><h3>Guess: 1   ---   Actual: 1</h3><img src=\"data:image/png;base64,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\" alt=\"Guess: 1   ---   Actual: 1\" /><h3>Guess: 0   ---   Actual: 0</h3><img src=\"data:image/png;base64,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\" alt=\"Guess: 0   ---   Actual: 0\" /><h3>Guess: 4   ---   Actual: 4</h3><img src=\"data:image/png;base64,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\" alt=\"Guess: 4   ---   Actual: 4\" /><h3>Guess: 1   ---   Actual: 1</h3><img src=\"data:image/png;base64,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\" alt=\"Guess: 1   ---   Actual: 1\" /><h3>Guess: 4   ---   Actual: 4</h3><img src=\"data:image/png;base64,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\" alt=\"Guess: 4   ---   Actual: 4\" /><h3>Guess: 9   ---   Actual: 9</h3><img src=\"data:image/png;base64,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\" alt=\"Guess: 9   ---   Actual: 9\" /><h3>Guess: 6   ---   Actual: 5</h3><img src=\"data:image/png;base64,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\" alt=\"Guess: 6   ---   Actual: 5\" /><h3>Guess: 9   ---   Actual: 9</h3><img src=\"data:image/png;base64,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\" alt=\"Guess: 9   ---   Actual: 9\" /></body></html>\n"
            ]
          },
          "metadata": {},
          "execution_count": 178
        }
      ]
    },
    {
      "cell_type": "code",
      "source": [],
      "metadata": {
        "id": "hhmoSSjcs2M2"
      },
      "execution_count": null,
      "outputs": []
    }
  ],
  "metadata": {
    "accelerator": "GPU",
    "colab": {
      "provenance": [],
      "include_colab_link": true
    },
    "kernelspec": {
      "display_name": "Python 3",
      "name": "python3"
    }
  },
  "nbformat": 4,
  "nbformat_minor": 0
}