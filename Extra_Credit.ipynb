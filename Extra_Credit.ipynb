{
  "nbformat": 4,
  "nbformat_minor": 0,
  "metadata": {
    "colab": {
      "provenance": [],
      "authorship_tag": "ABX9TyNKMjR0AwIc7b0JxXNJpbkB",
      "include_colab_link": true
    },
    "kernelspec": {
      "name": "python3",
      "display_name": "Python 3"
    },
    "language_info": {
      "name": "python"
    }
  },
  "cells": [
    {
      "cell_type": "markdown",
      "metadata": {
        "id": "view-in-github",
        "colab_type": "text"
      },
      "source": [
        "<a href=\"https://colab.research.google.com/github/JennaKvasnovsky/Fall2023/blob/main/Extra_Credit.ipynb\" target=\"_parent\"><img src=\"https://colab.research.google.com/assets/colab-badge.svg\" alt=\"Open In Colab\"/></a>"
      ]
    },
    {
      "cell_type": "code",
      "source": [
        "from IPython.display import HTML\n",
        "\n",
        "html_code = \"\"\"\n",
        "<!DOCTYPE html>\n",
        "<html lang=\"en\">\n",
        "<head>\n",
        "    <meta charset=\"UTF-8\">\n",
        "    <meta name=\"viewport\" content=\"width=device-width, initial-scale=1.0\">\n",
        "    <title>Joke Generator</title>\n",
        "    <style>\n",
        "        body {\n",
        "            font-family: Arial, sans-serif;\n",
        "            text-align: center;\n",
        "            margin: 50px;\n",
        "        }\n",
        "        button {\n",
        "            padding: 10px 20px;\n",
        "            font-size: 16px;\n",
        "            cursor: pointer;\n",
        "        }\n",
        "        #joke-container {\n",
        "            margin-top: 20px;\n",
        "            font-size: 18px;\n",
        "        }\n",
        "    </style>\n",
        "</head>\n",
        "<body>\n",
        "    <h1>Welcome to the Joke Generator!</h1>\n",
        "\n",
        "    <button onclick=\"getJoke()\">Get Joke</button>\n",
        "\n",
        "    <div id=\"joke-container\"></div>\n",
        "\n",
        "    <script>\n",
        "        function getJoke() {\n",
        "            fetch('https://v2.jokeapi.dev/joke/Any')\n",
        "                .then(response => response.json())\n",
        "                .then(data => {\n",
        "                    const jokeContainer = document.getElementById('joke-container');\n",
        "\n",
        "                    if (data.type === 'twopart') {\n",
        "                        jokeContainer.innerHTML = `<p>${data.setup}</p><p>${data.delivery}</p>`;\n",
        "                    } else {\n",
        "                        jokeContainer.innerHTML = `<p>${data.joke}</p>`;\n",
        "                    }\n",
        "                })\n",
        "                .catch(error => {\n",
        "                    console.error('Error fetching joke:', error);\n",
        "                });\n",
        "        }\n",
        "    </script>\n",
        "</body>\n",
        "</html>\n",
        "\"\"\"\n",
        "\n",
        "# Open the HTML in a new tab\n",
        "HTML(html_code)\n"
      ],
      "metadata": {
        "colab": {
          "base_uri": "https://localhost:8080/",
          "height": 165
        },
        "id": "oiWRqpfmSzu9",
        "outputId": "41cdac09-7547-4fff-b141-6488f549bc13"
      },
      "execution_count": 5,
      "outputs": [
        {
          "output_type": "execute_result",
          "data": {
            "text/plain": [
              "<IPython.core.display.HTML object>"
            ],
            "text/html": [
              "\n",
              "<!DOCTYPE html>\n",
              "<html lang=\"en\">\n",
              "<head>\n",
              "    <meta charset=\"UTF-8\">\n",
              "    <meta name=\"viewport\" content=\"width=device-width, initial-scale=1.0\">\n",
              "    <title>Joke Generator</title>\n",
              "    <style>\n",
              "        body {\n",
              "            font-family: Arial, sans-serif;\n",
              "            text-align: center;\n",
              "            margin: 50px;\n",
              "        }\n",
              "        button {\n",
              "            padding: 10px 20px;\n",
              "            font-size: 16px;\n",
              "            cursor: pointer;\n",
              "        }\n",
              "        #joke-container {\n",
              "            margin-top: 20px;\n",
              "            font-size: 18px;\n",
              "        }\n",
              "    </style>\n",
              "</head>\n",
              "<body>\n",
              "    <h1>Welcome to the Joke Generator!</h1>\n",
              "    \n",
              "    <button onclick=\"getJoke()\">Get Joke</button>\n",
              "    \n",
              "    <div id=\"joke-container\"></div>\n",
              "\n",
              "    <script>\n",
              "        function getJoke() {\n",
              "            fetch('https://v2.jokeapi.dev/joke/Any')\n",
              "                .then(response => response.json())\n",
              "                .then(data => {\n",
              "                    const jokeContainer = document.getElementById('joke-container');\n",
              "                    \n",
              "                    if (data.type === 'twopart') {\n",
              "                        jokeContainer.innerHTML = `<p>${data.setup}</p><p>${data.delivery}</p>`;\n",
              "                    } else {\n",
              "                        jokeContainer.innerHTML = `<p>${data.joke}</p>`;\n",
              "                    }\n",
              "                })\n",
              "                .catch(error => {\n",
              "                    console.error('Error fetching joke:', error);\n",
              "                });\n",
              "        }\n",
              "    </script>\n",
              "</body>\n",
              "</html>\n"
            ]
          },
          "metadata": {},
          "execution_count": 5
        }
      ]
    },
    {
      "cell_type": "code",
      "source": [],
      "metadata": {
        "id": "GAeCU9mDSzmC"
      },
      "execution_count": null,
      "outputs": []
    },
    {
      "cell_type": "code",
      "source": [],
      "metadata": {
        "id": "UmBLFLC_Szi4"
      },
      "execution_count": null,
      "outputs": []
    }
  ]
}